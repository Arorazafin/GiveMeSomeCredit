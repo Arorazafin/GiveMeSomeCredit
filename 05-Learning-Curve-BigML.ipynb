{
 "cells": [
  {
   "cell_type": "markdown",
   "metadata": {},
   "source": [
    "# Performance vs. Amount of sample by BigML "
   ]
  },
  {
   "cell_type": "markdown",
   "metadata": {},
   "source": []
  },
  {
   "cell_type": "code",
   "execution_count": 3,
   "metadata": {},
   "outputs": [],
   "source": [
    "import bigml.api\n",
    "from bigml.api import BigML\n",
    "import pandas as pd\n",
    "from pandas import read_csv\n",
    "import matplotlib.pyplot as plt\n",
    "\n",
    "api = BigML()\n",
    "# api = BigML(storage='./storage')"
   ]
  },
  {
   "cell_type": "markdown",
   "metadata": {},
   "source": [
    "Building Source"
   ]
  },
  {
   "cell_type": "code",
   "execution_count": 4,
   "metadata": {},
   "outputs": [
    {
     "data": {
      "text/plain": [
       "True"
      ]
     },
     "execution_count": 4,
     "metadata": {},
     "output_type": "execute_result"
    }
   ],
   "source": [
    "source = api.create_source('Train_Full_New1.csv')\n",
    "api.ok(source)"
   ]
  },
  {
   "cell_type": "markdown",
   "metadata": {},
   "source": [
    "Building Dataset"
   ]
  },
  {
   "cell_type": "code",
   "execution_count": 5,
   "metadata": {},
   "outputs": [
    {
     "data": {
      "text/plain": [
       "True"
      ]
     },
     "execution_count": 5,
     "metadata": {},
     "output_type": "execute_result"
    }
   ],
   "source": [
    "dataset = api.create_dataset(source)\n",
    "api.ok(dataset) "
   ]
  },
  {
   "cell_type": "markdown",
   "metadata": {},
   "source": [
    "Random Split Building dataset into 80% train and 20% Validation"
   ]
  },
  {
   "cell_type": "code",
   "execution_count": 6,
   "metadata": {},
   "outputs": [
    {
     "data": {
      "text/plain": [
       "True"
      ]
     },
     "execution_count": 6,
     "metadata": {},
     "output_type": "execute_result"
    }
   ],
   "source": [
    "train_dataset = api.create_dataset(dataset, {\"name\": \"train\", \"sample_rate\": 0.8, \"seed\": \"my seed\"})\n",
    "api.ok(train_dataset)\n",
    "validation_dataset = api.create_dataset(dataset, {\"name\": \"validation\", \"sample_rate\": 0.8, \"seed\": \"my seed\", \"out_of_bag\": True})\n",
    "api.ok(validation_dataset)"
   ]
  },
  {
   "cell_type": "markdown",
   "metadata": {},
   "source": [
    "Split Train Dataset by 12.000"
   ]
  },
  {
   "cell_type": "code",
   "execution_count": 10,
   "metadata": {},
   "outputs": [],
   "source": [
    "#train_dataset1 = api.create_dataset(train_dataset, {\"name\": \"train1\", \"sample_rate\": 0.1, \"seed\": \"my seed\"})\n",
    "train_dataset1b = api.create_dataset(train_dataset, {\"name\": \"train1b\", \"sample_rate\": 0.1, \"seed\": \"my seed\",\"out_of_bag\": True})\n",
    "#train_dataset2 = api.create_dataset(train_dataset1b, {\"name\": \"train2\", \"sample_rate\": 0.12, \"seed\": \"my seed\"})\n",
    "train_dataset2b = api.create_dataset(train_dataset1b, {\"name\": \"train2b\", \"sample_rate\": 0.12, \"seed\": \"my seed\",\"out_of_bag\": True})\n",
    "#train_dataset3 = api.create_dataset(train_dataset2b, {\"name\": \"train3\", \"sample_rate\": 0.13, \"seed\": \"my seed\"})\n",
    "train_dataset3b = api.create_dataset(train_dataset2b, {\"name\": \"train3b\", \"sample_rate\": 0.13, \"seed\": \"my seed\",\"out_of_bag\": True})\n",
    "#train_dataset4 = api.create_dataset(train_dataset3b, {\"name\": \"train4\", \"sample_rate\": 0.15, \"seed\": \"my seed\"})\n",
    "train_dataset4b = api.create_dataset(train_dataset3b, {\"name\": \"train4b\", \"sample_rate\": 0.15, \"seed\": \"my seed\",\"out_of_bag\": True})\n",
    "#train_dataset5 = api.create_dataset(train_dataset4b, {\"name\": \"train5\", \"sample_rate\": 0.17, \"seed\": \"my seed\"})\n",
    "train_dataset5b = api.create_dataset(train_dataset4b, {\"name\": \"train5b\", \"sample_rate\": 0.17, \"seed\": \"my seed\",\"out_of_bag\": True})\n",
    "#train_dataset6 = api.create_dataset(train_dataset5b, {\"name\": \"train6\", \"sample_rate\": 0.21, \"seed\": \"my seed\"})\n",
    "train_dataset6b = api.create_dataset(train_dataset5b, {\"name\": \"train6b\", \"sample_rate\": 0.21, \"seed\": \"my seed\",\"out_of_bag\": True})\n",
    "#train_dataset7 = api.create_dataset(train_dataset6b, {\"name\": \"train7\", \"sample_rate\": 0.26, \"seed\": \"my seed\"})\n",
    "train_dataset7b = api.create_dataset(train_dataset6b, {\"name\": \"train7b\", \"sample_rate\": 0.26, \"seed\": \"my seed\",\"out_of_bag\": True})\n",
    "#train_dataset8 = api.create_dataset(train_dataset7b, {\"name\": \"train8\", \"sample_rate\": 0.35, \"seed\": \"my seed\"})\n",
    "train_dataset8b = api.create_dataset(train_dataset7b, {\"name\": \"train8b\", \"sample_rate\": 0.35, \"seed\": \"my seed\",\"out_of_bag\": True})\n",
    "#train_dataset9 = api.create_dataset(train_dataset8b, {\"name\": \"train9\", \"sample_rate\": 0.45, \"seed\": \"my seed\"})\n",
    "train_dataset9b = api.create_dataset(train_dataset8b, {\"name\": \"train9b\", \"sample_rate\": 0.45, \"seed\": \"my seed\",\"out_of_bag\": True})\n"
   ]
  },
  {
   "cell_type": "markdown",
   "metadata": {},
   "source": [
    "# Learning curve : Dev set Analysis"
   ]
  },
  {
   "cell_type": "code",
   "execution_count": 11,
   "metadata": {},
   "outputs": [
    {
     "name": "stdout",
     "output_type": "stream",
     "text": [
      "      model                                            dataset  Sample  \\\n",
      "1  ensemble  {'code': 201, 'resource': 'dataset/5dc1c1a9e47...   12192   \n",
      "2  ensemble  {'code': 201, 'resource': 'dataset/5dc1c19be47...   22167   \n",
      "3  ensemble  {'code': 201, 'resource': 'dataset/5dc1c18e529...   34103   \n",
      "4  ensemble  {'code': 201, 'resource': 'dataset/5dc1c181781...   46085   \n",
      "5  ensemble  {'code': 201, 'resource': 'dataset/5dc1c176781...   58335   \n",
      "\n",
      "   Performance  \n",
      "1      0.83015  \n",
      "2      0.84448  \n",
      "3      0.84698  \n",
      "4      0.85086  \n",
      "5      0.85405  \n"
     ]
    },
    {
     "data": {
      "text/plain": [
       "<matplotlib.axes._subplots.AxesSubplot at 0x7f40f6607fd0>"
      ]
     },
     "execution_count": 11,
     "metadata": {},
     "output_type": "execute_result"
    },
    {
     "data": {
      "image/png": "[encoded data removed]",
      "text/plain": [
       "<Figure size 432x288 with 1 Axes>"
      ]
     },
     "metadata": {
      "needs_background": "light"
     },
     "output_type": "display_data"
    }
   ],
   "source": [
    "model = \"ensemble\"\n",
    "\n",
    "dt_set = [train_dataset9b,\n",
    "         train_dataset8b,\n",
    "         train_dataset7b,\n",
    "         train_dataset6b,\n",
    "         train_dataset5b,\n",
    "         train_dataset4b,\n",
    "         train_dataset3b,\n",
    "         train_dataset2b,\n",
    "         train_dataset1b,\n",
    "         train_dataset] \n",
    "\n",
    "Amount = [12192,22167,34103,46085,58335,70283,82685,95040,108000,120000]\n",
    "\n",
    "res_AmtPer = pd.DataFrame({\"model\" : model, \"dataset\" : ['data'], \"Sample\" : [0], \"Performance\": [0]})\n",
    "\n",
    "i=0\n",
    "for d in dt_set:\n",
    "    if model == \"ensemble\":    \n",
    "        mod = api.create_ensemble(d)\n",
    "        api.ok(mod)\n",
    "    if model == \"deepnet\":\n",
    "        mod = api.create_deepnet(d)\n",
    "        api.ok(mod)\n",
    "        \n",
    "    evaluation = api.create_evaluation(mod,validation_dataset)\n",
    "    api.ok(evaluation)\n",
    "    auc = evaluation['object']['result']['model']['average_area_under_roc_curve']\n",
    "    res_AmtPer = res_AmtPer.append({\"model\" : model, \"dataset\" : dt_set[i], \"Sample\" :Amount[i], \"Performance\": auc}, ignore_index = True)\n",
    "    i=i+1\n",
    "        \n",
    "res_AmtPer = res_AmtPer.drop([0],axis =0)\n",
    "print (res_AmtPer.head(5))\n",
    "title = \"model : \" + res_AmtPer ['model'][1]\n",
    "res_AmtPer.plot(x='Sample' , y='Performance', title = title)"
   ]
  },
  {
   "cell_type": "markdown",
   "metadata": {},
   "source": [
    "For 2 models"
   ]
  },
  {
   "cell_type": "code",
   "execution_count": 12,
   "metadata": {},
   "outputs": [
    {
     "name": "stdout",
     "output_type": "stream",
     "text": [
      "                                             dataset  Sample  Perf_Model1  \\\n",
      "1  {'code': 201, 'resource': 'dataset/5dc1c1a9e47...   12192      0.82632   \n",
      "2  {'code': 201, 'resource': 'dataset/5dc1c19be47...   22167      0.84326   \n",
      "3  {'code': 201, 'resource': 'dataset/5dc1c18e529...   34103      0.84712   \n",
      "4  {'code': 201, 'resource': 'dataset/5dc1c181781...   46085      0.85109   \n",
      "5  {'code': 201, 'resource': 'dataset/5dc1c176781...   58335      0.85037   \n",
      "\n",
      "   Perf_Model2  \n",
      "1      0.83781  \n",
      "2      0.83623  \n",
      "3      0.83892  \n",
      "4      0.82846  \n",
      "5      0.83884  \n"
     ]
    },
    {
     "data": {
      "text/plain": [
       "<matplotlib.axes._subplots.AxesSubplot at 0x7f40f5cd9668>"
      ]
     },
     "execution_count": 12,
     "metadata": {},
     "output_type": "execute_result"
    },
    {
     "data": {
      "image/png": "[encoded data removed]",
      "text/plain": [
       "<Figure size 432x288 with 1 Axes>"
      ]
     },
     "metadata": {
      "needs_background": "light"
     },
     "output_type": "display_data"
    }
   ],
   "source": [
    "bigml_models = ['ensemble','deepnet']\n",
    "res_AmtPer = pd.DataFrame({\"dataset\" : ['data'], \"Sample\" : [0], \"Perf_Model1\": [0],\"Perf_Model2\": [0] })\n",
    "\n",
    "dt_set = [train_dataset9b,\n",
    "         train_dataset8b,\n",
    "         train_dataset7b,\n",
    "         train_dataset6b,\n",
    "         train_dataset5b,\n",
    "         train_dataset4b,\n",
    "         train_dataset3b,\n",
    "         train_dataset2b,\n",
    "         train_dataset1b,\n",
    "         train_dataset] \n",
    "\n",
    "Amount = [12192,22167,34103,46085,58335,70283,82685,95040,108000,120000]\n",
    "\n",
    "\n",
    "i=0\n",
    "for d in dt_set:\n",
    "    # model1 = ensemble     \n",
    "    mod = api.create_ensemble(d)\n",
    "    api.ok(mod)\n",
    "    evaluation = api.create_evaluation(mod,validation_dataset)\n",
    "    api.ok(evaluation)\n",
    "    auc_mod1 = evaluation['object']['result']['model']['average_area_under_roc_curve']\n",
    "    \n",
    "    # model2 = deeptnet     \n",
    "    mod = api.create_deepnet(d)\n",
    "    api.ok(mod)\n",
    "    evaluation = api.create_evaluation(mod,validation_dataset)\n",
    "    api.ok(evaluation)\n",
    "    auc_mod2 = evaluation['object']['result']['model']['average_area_under_roc_curve']\n",
    "    \n",
    "    res_AmtPer = res_AmtPer.append({\"dataset\" : dt_set[i], \"Sample\" :Amount[i], \"Perf_Model1\": auc_mod1, \"Perf_Model2\": auc_mod2}, ignore_index = True)\n",
    "    i=i+1\n",
    "        \n",
    "res_AmtPer = res_AmtPer.drop([0],axis =0)\n",
    "print (res_AmtPer.head(5))\n",
    "\n",
    "title = \"model 1 : \" + bigml_models [0] + \" - model 2 : \" + bigml_models [1] \n",
    "res_AmtPer.plot(x='Sample' , y=['Perf_Model1','Perf_Model2'], title = title)\n"
   ]
  },
  {
   "cell_type": "code",
   "execution_count": 2,
   "metadata": {},
   "outputs": [
    {
     "ename": "NameError",
     "evalue": "name 'res_AmtPer' is not defined",
     "output_type": "error",
     "traceback": [
      "\u001b[0;31m---------------------------------------------------------------------------\u001b[0m",
      "\u001b[0;31mNameError\u001b[0m                                 Traceback (most recent call last)",
      "\u001b[0;32m<ipython-input-2-bc26b488699c>\u001b[0m in \u001b[0;36m<module>\u001b[0;34m\u001b[0m\n\u001b[0;32m----> 1\u001b[0;31m \u001b[0mres_AmtPer\u001b[0m\u001b[0;34m.\u001b[0m\u001b[0mto_csv\u001b[0m\u001b[0;34m(\u001b[0m\u001b[0;34m'lc-ar.csv'\u001b[0m\u001b[0;34m)\u001b[0m\u001b[0;34m\u001b[0m\u001b[0;34m\u001b[0m\u001b[0m\n\u001b[0m",
      "\u001b[0;31mNameError\u001b[0m: name 'res_AmtPer' is not defined"
     ]
    }
   ],
   "source": [
    "res_AmtPer.to_csv('lc-ar2.csv')"
   ]
  },
  {
   "cell_type": "markdown",
   "metadata": {},
   "source": [
    "# Learning curve : Train vs. Dev set Analysis"
   ]
  },
  {
   "cell_type": "code",
   "execution_count": 20,
   "metadata": {},
   "outputs": [
    {
     "name": "stdout",
     "output_type": "stream",
     "text": [
      "      model                                            dataset  Sample  \\\n",
      "1  ensemble  {'code': 201, 'resource': 'dataset/5dc01d06529...   12192   \n",
      "2  ensemble  {'code': 201, 'resource': 'dataset/5dc01cf8e47...   22167   \n",
      "3  ensemble  {'code': 201, 'resource': 'dataset/5dc01cefe47...   34103   \n",
      "4  ensemble  {'code': 201, 'resource': 'dataset/5dc01c5f781...   46085   \n",
      "5  ensemble  {'code': 201, 'resource': 'dataset/5dc01c54e47...   58335   \n",
      "\n",
      "   Performance Dev  Performance Train  \n",
      "1          0.82998            0.95918  \n",
      "2          0.84236            0.92413  \n",
      "3          0.84838            0.90552  \n",
      "4          0.85189            0.89811  \n",
      "5          0.85400            0.89097  \n"
     ]
    }
   ],
   "source": [
    "model = \"deepnet\"\n",
    "\n",
    "dt_set = [train_dataset9b,\n",
    "         train_dataset8b,\n",
    "         train_dataset7b,\n",
    "         train_dataset6b,\n",
    "         train_dataset5b,\n",
    "         train_dataset4b,\n",
    "         train_dataset3b,\n",
    "         train_dataset2b,\n",
    "         train_dataset1b,\n",
    "         train_dataset] \n",
    "\n",
    "Amount = [12192,22167,34103,46085,58335,70283,82685,95040,108000,120000]\n",
    "\n",
    "res_AmtPer = pd.DataFrame({\"model\" : model, \"dataset\" : ['data'], \"Sample\" : [0], \"Performance Dev\": [0], \"Performance Train\": [0]})\n",
    "\n",
    "i=0\n",
    "for d in dt_set:\n",
    "    if model == \"ensemble\":    \n",
    "        mod = api.create_ensemble(d)\n",
    "        api.ok(mod)\n",
    "    if model == \"deepnet\":\n",
    "        mod = api.create_deepnet(d)\n",
    "        api.ok(mod)\n",
    "    \n",
    "    #dev auc    \n",
    "    evaluation = api.create_evaluation(mod,validation_dataset)\n",
    "    api.ok(evaluation)\n",
    "    auc_dev = evaluation['object']['result']['model']['average_area_under_roc_curve']\n",
    "    \n",
    "    #rain auc\n",
    "    evaluation = api.create_evaluation(mod,d)\n",
    "    api.ok(evaluation)\n",
    "    auc_train = evaluation['object']['result']['model']['average_area_under_roc_curve']\n",
    "    \n",
    "    \n",
    "    res_AmtPer = res_AmtPer.append({\"model\" : model, \"dataset\" : dt_set[i], \"Sample\" :Amount[i], \"Performance Dev\": auc_dev, \"Performance Train\": auc_train}, ignore_index = True)\n",
    "    i=i+1\n",
    "        \n",
    "res_AmtPer = res_AmtPer.drop([0],axis =0)\n",
    "print (res_AmtPer.head(5))\n"
   ]
  },
  {
   "cell_type": "code",
   "execution_count": 15,
   "metadata": {},
   "outputs": [
    {
     "data": {
      "text/plain": [
       "<matplotlib.axes._subplots.AxesSubplot at 0x7f4ad7062710>"
      ]
     },
     "execution_count": 15,
     "metadata": {},
     "output_type": "execute_result"
    },
    {
     "data": {
      "image/png": "[encoded data removed]",
      "text/plain": [
       "<Figure size 432x288 with 1 Axes>"
      ]
     },
     "metadata": {
      "needs_background": "light"
     },
     "output_type": "display_data"
    }
   ],
   "source": [
    "title = \"model : \" + res_AmtPer ['model'][1]\n",
    "res_AmtPer['Desired performance'] = 0.87\n",
    "res_AmtPer.plot(x='Sample' , y=['Performance Dev','Performance Train','Desired performance'], title = title)"
   ]
  },
  {
   "cell_type": "code",
   "execution_count": 18,
   "metadata": {},
   "outputs": [
    {
     "name": "stdout",
     "output_type": "stream",
     "text": [
      "     model                                            dataset  Sample  \\\n",
      "1  deepnet  {'code': 201, 'resource': 'dataset/5dc01d06529...   12192   \n",
      "2  deepnet  {'code': 201, 'resource': 'dataset/5dc01cf8e47...   22167   \n",
      "3  deepnet  {'code': 201, 'resource': 'dataset/5dc01cefe47...   34103   \n",
      "4  deepnet  {'code': 201, 'resource': 'dataset/5dc01c5f781...   46085   \n",
      "5  deepnet  {'code': 201, 'resource': 'dataset/5dc01c54e47...   58335   \n",
      "\n",
      "   Performance Dev  Performance Train  \n",
      "1          0.83781            0.87097  \n",
      "2          0.83623            0.86041  \n",
      "3          0.83892            0.85103  \n",
      "4          0.82846            0.84267  \n",
      "5          0.83884            0.85076  \n"
     ]
    }
   ],
   "source": [
    "model = \"ensemble\"\n",
    "\n",
    "dt_set = [train_dataset9b,\n",
    "         train_dataset8b,\n",
    "         train_dataset7b,\n",
    "         train_dataset6b,\n",
    "         train_dataset5b,\n",
    "         train_dataset4b,\n",
    "         train_dataset3b,\n",
    "         train_dataset2b,\n",
    "         train_dataset1b,\n",
    "         train_dataset] \n",
    "\n",
    "Amount = [12192,22167,34103,46085,58335,70283,82685,95040,108000,120000]\n",
    "\n",
    "res_AmtPer = pd.DataFrame({\"model\" : model, \"dataset\" : ['data'], \"Sample\" : [0], \"Performance Dev\": [0], \"Performance Train\": [0]})\n",
    "\n",
    "i=0\n",
    "for d in dt_set:\n",
    "    if model == \"ensemble\":    \n",
    "        mod = api.create_ensemble(d)\n",
    "        api.ok(mod)\n",
    "    if model == \"deepnet\":\n",
    "        mod = api.create_deepnet(d)\n",
    "        api.ok(mod)\n",
    "    \n",
    "    #dev auc    \n",
    "    evaluation = api.create_evaluation(mod,validation_dataset)\n",
    "    api.ok(evaluation)\n",
    "    auc_dev = evaluation['object']['result']['model']['average_area_under_roc_curve']\n",
    "    \n",
    "    #rain auc\n",
    "    evaluation = api.create_evaluation(mod,d)\n",
    "    api.ok(evaluation)\n",
    "    auc_train = evaluation['object']['result']['model']['average_area_under_roc_curve']\n",
    "    \n",
    "    \n",
    "    res_AmtPer = res_AmtPer.append({\"model\" : model, \"dataset\" : dt_set[i], \"Sample\" :Amount[i], \"Performance Dev\": auc_dev, \"Performance Train\": auc_train}, ignore_index = True)\n",
    "    i=i+1\n",
    "        \n",
    "res_AmtPer = res_AmtPer.drop([0],axis =0)\n",
    "print (res_AmtPer.head(5))"
   ]
  },
  {
   "cell_type": "code",
   "execution_count": 21,
   "metadata": {},
   "outputs": [
    {
     "data": {
      "text/plain": [
       "<matplotlib.axes._subplots.AxesSubplot at 0x7f4ad6d192b0>"
      ]
     },
     "execution_count": 21,
     "metadata": {},
     "output_type": "execute_result"
    },
    {
     "data": {
      "image/png": "[encoded data removed]",
      "text/plain": [
       "<Figure size 432x288 with 1 Axes>"
      ]
     },
     "metadata": {
      "needs_background": "light"
     },
     "output_type": "display_data"
    }
   ],
   "source": [
    "title = \"model : \" + res_AmtPer ['model'][1]\n",
    "res_AmtPer['Desired performance'] = 0.87\n",
    "res_AmtPer.plot(x='Sample' , y=['Performance Dev','Performance Train','Desired performance'], title = title)"
   ]
  },
  {
   "cell_type": "code",
   "execution_count": null,
   "metadata": {},
   "outputs": [],
   "source": []
  }
 ],
 "metadata": {
  "kernelspec": {
   "display_name": "Python 3",
   "language": "python",
   "name": "python3"
  },
  "language_info": {
   "codemirror_mode": {
    "name": "ipython",
    "version": 3
   },
   "file_extension": ".py",
   "mimetype": "text/x-python",
   "name": "python",
   "nbconvert_exporter": "python",
   "pygments_lexer": "ipython3",
   "version": "3.7.3"
  }
 },
 "nbformat": 4,
 "nbformat_minor": 2
}
