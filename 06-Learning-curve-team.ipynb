{
 "cells": [
  {
   "cell_type": "code",
   "execution_count": 1,
   "metadata": {},
   "outputs": [],
   "source": [
    "import pandas as pd\n",
    "from pandas import read_csv\n",
    "import matplotlib.pyplot as plt"
   ]
  },
  {
   "cell_type": "code",
   "execution_count": 2,
   "metadata": {},
   "outputs": [
    {
     "name": "stdout",
     "output_type": "stream",
     "text": [
      "    ens-BR\n",
      "0  0.83363\n",
      "1  0.84549\n",
      "2  0.84771\n",
      "3  0.85342\n",
      "4  0.85481\n",
      "5  0.85670\n",
      "6  0.85615\n",
      "7  0.85670\n",
      "8  0.85758\n"
     ]
    }
   ],
   "source": [
    "df_br = read_csv('lc-br.csv')\n",
    "df_team_ensemble = df_br['Ensemble']\n",
    "df_team_ensemble.name = 'ens-BR'\n",
    "df_team_ensemble = pd.DataFrame(df_team_ensemble)\n",
    "print (df_team_ensemble)"
   ]
  },
  {
   "cell_type": "code",
   "execution_count": 3,
   "metadata": {},
   "outputs": [
    {
     "name": "stdout",
     "output_type": "stream",
     "text": [
      "   NICO  ensemble  deepnet\n",
      "0   0.1   0.85528  0.83934\n",
      "1   0.2   0.86881  0.85109\n",
      "2   0.3   0.87501  0.85196\n",
      "3   0.4   0.87683  0.84816\n",
      "4   0.5   0.87771  0.84731\n",
      "5   0.6   0.87890  0.85638\n",
      "6   0.7   0.87855  0.84684\n",
      "7   0.8   0.88021  0.84525\n",
      "8   0.9   0.88048  0.85277\n",
      "9   1.0   0.87979  0.85566\n",
      "    ens-BR   ens-NA\n",
      "0  0.83363  0.85528\n",
      "1  0.84549  0.86881\n",
      "2  0.84771  0.87501\n",
      "3  0.85342  0.87683\n",
      "4  0.85481  0.87771\n",
      "5  0.85670  0.87890\n",
      "6  0.85615  0.87855\n",
      "7  0.85670  0.88021\n",
      "8  0.85758  0.88048\n",
      "9      NaN  0.87979\n"
     ]
    }
   ],
   "source": [
    "df_na = read_csv('lc-na.csv')\n",
    "print (df_na)\n",
    "df_na = df_na['ensemble']\n",
    "df_na.name = 'ens-NA'\n",
    "df_team_ensemble = pd.DataFrame(df_team_ensemble)\n",
    "df_team_ensemble = pd.concat([df_team_ensemble,df_na], axis = 1)\n",
    "print (df_team_ensemble)"
   ]
  },
  {
   "cell_type": "code",
   "execution_count": 4,
   "metadata": {},
   "outputs": [
    {
     "name": "stdout",
     "output_type": "stream",
     "text": [
      "   Unnamed: 0  Sample  Ensemble  Deepnet\n",
      "0           1   12192   0.82968  0.83781\n",
      "1           2   22167   0.84323  0.83623\n",
      "2           3   34103   0.84485  0.83892\n",
      "3           4   46085   0.85128  0.82846\n",
      "4           5   58335   0.85309  0.83884\n",
      "5           6   70283   0.85453  0.83618\n",
      "6           7   82685   0.85434  0.84059\n",
      "7           8   95040   0.85479  0.83444\n",
      "8           9  108000   0.85442  0.84286\n",
      "9          10  120000   0.85513  0.83959\n",
      "    ens-BR   ens-NA   ens-AR\n",
      "0  0.83363  0.85528  0.82968\n",
      "1  0.84549  0.86881  0.84323\n",
      "2  0.84771  0.87501  0.84485\n",
      "3  0.85342  0.87683  0.85128\n",
      "4  0.85481  0.87771  0.85309\n",
      "5  0.85670  0.87890  0.85453\n",
      "6  0.85615  0.87855  0.85434\n",
      "7  0.85670  0.88021  0.85479\n",
      "8  0.85758  0.88048  0.85442\n",
      "9      NaN  0.87979  0.85513\n"
     ]
    }
   ],
   "source": [
    "df_ar = read_csv('lc-ar.csv')\n",
    "print (df_ar)\n",
    "df_ar = df_ar['Ensemble']\n",
    "df_ar.name = 'ens-AR'\n",
    "df_team_ensemble = pd.DataFrame(df_team_ensemble)\n",
    "df_team_ensemble = pd.concat([df_team_ensemble,df_ar], axis = 1)\n",
    "print (df_team_ensemble)"
   ]
  },
  {
   "cell_type": "code",
   "execution_count": 8,
   "metadata": {},
   "outputs": [
    {
     "name": "stdout",
     "output_type": "stream",
     "text": [
      "   Ensemble  Deepnet\n",
      "0    0.8267   0.5399\n",
      "1    0.8432   0.6550\n",
      "2    0.8448   0.8042\n",
      "3    0.8499   0.8375\n",
      "4    0.8505   0.8420\n",
      "5    0.8517   0.8378\n",
      "6    0.8547   0.8383\n",
      "7    0.8522   0.8373\n",
      "8    0.8544   0.8422\n",
      "9    0.8547   0.8423\n",
      "    ens-BR   ens-NA   ens-AR  ens-CG\n",
      "0  0.83363  0.85528  0.82968  0.8267\n",
      "1  0.84549  0.86881  0.84323  0.8432\n",
      "2  0.84771  0.87501  0.84485  0.8448\n",
      "3  0.85342  0.87683  0.85128  0.8499\n",
      "4  0.85481  0.87771  0.85309  0.8505\n",
      "5  0.85670  0.87890  0.85453  0.8517\n",
      "6  0.85615  0.87855  0.85434  0.8547\n",
      "7  0.85670  0.88021  0.85479  0.8522\n",
      "8  0.85758  0.88048  0.85442  0.8544\n",
      "9      NaN  0.87979  0.85513  0.8547\n"
     ]
    }
   ],
   "source": [
    "df_cg = read_csv('lc-CG.csv')\n",
    "print (df_cg)\n",
    "df_cg = df_cg['Ensemble']\n",
    "df_cg.name = 'ens-CG'\n",
    "df_team_ensemble = pd.DataFrame(df_team_ensemble)\n",
    "df_team_ensemble = pd.concat([df_team_ensemble,df_cg], axis = 1)\n",
    "print (df_team_ensemble)"
   ]
  },
  {
   "cell_type": "code",
   "execution_count": 9,
   "metadata": {},
   "outputs": [
    {
     "name": "stdout",
     "output_type": "stream",
     "text": [
      "              0        1        2        3        4        5        6  \\\n",
      "ens-BR  0.83363  0.84549  0.84771  0.85342  0.85481  0.85670  0.85615   \n",
      "ens-NA  0.85528  0.86881  0.87501  0.87683  0.87771  0.87890  0.87855   \n",
      "ens-AR  0.82968  0.84323  0.84485  0.85128  0.85309  0.85453  0.85434   \n",
      "ens-CG  0.82670  0.84320  0.84480  0.84990  0.85050  0.85170  0.85470   \n",
      "\n",
      "              7        8        9  \n",
      "ens-BR  0.85670  0.85758      NaN  \n",
      "ens-NA  0.88021  0.88048  0.87979  \n",
      "ens-AR  0.85479  0.85442  0.85513  \n",
      "ens-CG  0.85220  0.85440  0.85470  \n"
     ]
    }
   ],
   "source": [
    "df_team_ensemble = df_team_ensemble.T\n",
    "print (df_team_ensemble)"
   ]
  },
  {
   "cell_type": "code",
   "execution_count": 10,
   "metadata": {},
   "outputs": [
    {
     "name": "stdout",
     "output_type": "stream",
     "text": [
      "             0         1         2         3         4         5         6  \\\n",
      "mean  0.836322  0.850182  0.853093  0.857857  0.859028  0.860457  0.860935   \n",
      "\n",
      "             7        8         9  \n",
      "mean  0.860975  0.86172  0.863207  \n"
     ]
    }
   ],
   "source": [
    "df_team_ensemble_m = df_team_ensemble.mean(axis=0)\n",
    "df_team_ensemble_m.name = 'mean' \n",
    "df_team_ensemble_m = pd.DataFrame(df_team_ensemble_m)\n",
    "df_team_ensemble_mT = df_team_ensemble_m.T\n",
    "print(df_team_ensemble_mT)"
   ]
  },
  {
   "cell_type": "code",
   "execution_count": 11,
   "metadata": {},
   "outputs": [
    {
     "name": "stdout",
     "output_type": "stream",
     "text": [
      "                           0         1         2         3        4         5  \\\n",
      "standard deviation  0.012953  0.012465  0.014675  0.012731  0.01258  0.012464   \n",
      "\n",
      "                           6         7         8         9  \n",
      "standard deviation  0.011769  0.012955  0.012596  0.014363  \n"
     ]
    }
   ],
   "source": [
    "df_team_ensemble_std = df_team_ensemble.std(axis=0)\n",
    "df_team_ensemble_std.name = 'standard deviation' \n",
    "df_team_ensemble_std = pd.DataFrame(df_team_ensemble_std)\n",
    "df_team_ensemble_stdT = df_team_ensemble_std.T\n",
    "print(df_team_ensemble_stdT)"
   ]
  },
  {
   "cell_type": "code",
   "execution_count": 9,
   "metadata": {},
   "outputs": [],
   "source": [
    "#chgCol = ['10%','20%','30%','40%','50%','60%','70%','80%','90%','100%']\n",
    "#df_team_ensemble[df_team_ensemble.columns[chgCol]]\n",
    "#list(df_team_ensemble) = chgCol\n",
    "#df_team_ensemble[df_team_ensemble.columns(chgCo)]]\n",
    "#print (df_team_ensemble)"
   ]
  },
  {
   "cell_type": "code",
   "execution_count": 12,
   "metadata": {},
   "outputs": [
    {
     "name": "stdout",
     "output_type": "stream",
     "text": [
      "                           0         1         2         3         4  \\\n",
      "mean                0.836322  0.850182  0.853093  0.857857  0.859028   \n",
      "standard deviation  0.012953  0.012465  0.014675  0.012731  0.012580   \n",
      "\n",
      "                           5         6         7         8         9  \n",
      "mean                0.860457  0.860935  0.860975  0.861720  0.863207  \n",
      "standard deviation  0.012464  0.011769  0.012955  0.012596  0.014363  \n"
     ]
    }
   ],
   "source": [
    "df_team_ensemble_m_std = pd.concat([df_team_ensemble_mT, df_team_ensemble_stdT], axis = 0)\n",
    "print(df_team_ensemble_m_std)"
   ]
  },
  {
   "cell_type": "code",
   "execution_count": 13,
   "metadata": {},
   "outputs": [
    {
     "name": "stdout",
     "output_type": "stream",
     "text": [
      "                           0         1         2         3         4  \\\n",
      "ens-BR              0.833630  0.845490  0.847710  0.853420  0.854810   \n",
      "ens-NA              0.855280  0.868810  0.875010  0.876830  0.877710   \n",
      "ens-AR              0.829680  0.843230  0.844850  0.851280  0.853090   \n",
      "ens-CG              0.826700  0.843200  0.844800  0.849900  0.850500   \n",
      "mean                0.836322  0.850182  0.853093  0.857857  0.859028   \n",
      "standard deviation  0.012953  0.012465  0.014675  0.012731  0.012580   \n",
      "\n",
      "                           5         6         7         8         9  \n",
      "ens-BR              0.856700  0.856150  0.856700  0.857580       NaN  \n",
      "ens-NA              0.878900  0.878550  0.880210  0.880480  0.879790  \n",
      "ens-AR              0.854530  0.854340  0.854790  0.854420  0.855130  \n",
      "ens-CG              0.851700  0.854700  0.852200  0.854400  0.854700  \n",
      "mean                0.860457  0.860935  0.860975  0.861720  0.863207  \n",
      "standard deviation  0.012464  0.011769  0.012955  0.012596  0.014363  \n"
     ]
    }
   ],
   "source": [
    "df_team_ensemble = pd.concat([df_team_ensemble, df_team_ensemble_m_std], axis = 0)\n",
    "print(df_team_ensemble)"
   ]
  },
  {
   "cell_type": "code",
   "execution_count": 14,
   "metadata": {},
   "outputs": [
    {
     "name": "stdout",
     "output_type": "stream",
     "text": [
      "                         10%       20%       30%       40%       50%  \\\n",
      "ens-BR              0.833630  0.845490  0.847710  0.853420  0.854810   \n",
      "ens-NA              0.855280  0.868810  0.875010  0.876830  0.877710   \n",
      "ens-AR              0.829680  0.843230  0.844850  0.851280  0.853090   \n",
      "ens-CG              0.826700  0.843200  0.844800  0.849900  0.850500   \n",
      "mean                0.836322  0.850182  0.853093  0.857857  0.859028   \n",
      "standard deviation  0.012953  0.012465  0.014675  0.012731  0.012580   \n",
      "\n",
      "                         60%       70%       80%       90%      100%  \n",
      "ens-BR              0.856700  0.856150  0.856700  0.857580       NaN  \n",
      "ens-NA              0.878900  0.878550  0.880210  0.880480  0.879790  \n",
      "ens-AR              0.854530  0.854340  0.854790  0.854420  0.855130  \n",
      "ens-CG              0.851700  0.854700  0.852200  0.854400  0.854700  \n",
      "mean                0.860457  0.860935  0.860975  0.861720  0.863207  \n",
      "standard deviation  0.012464  0.011769  0.012955  0.012596  0.014363  \n"
     ]
    }
   ],
   "source": [
    "ChgCol = ['10%','20%','30%','40%','50%','60%','70%','80%','90%','100%']\n",
    "df_team_ensemble.columns = ChgCol  \n",
    "print(df_team_ensemble)"
   ]
  },
  {
   "cell_type": "code",
   "execution_count": 15,
   "metadata": {},
   "outputs": [
    {
     "name": "stdout",
     "output_type": "stream",
     "text": [
      "                         10%       20%       30%       40%       50%  \\\n",
      "deep-BR             0.834340  0.836230  0.838330  0.837030  0.832340   \n",
      "deep-NA             0.839340  0.851090  0.851960  0.848160  0.847310   \n",
      "deep-AR             0.837810  0.836230  0.838920  0.828460  0.838840   \n",
      "deep-CG             0.539900  0.655000  0.804200  0.837500  0.842000   \n",
      "mean                0.762848  0.794637  0.833352  0.837788  0.840122   \n",
      "standard deviation  0.148646  0.093355  0.020428  0.008067  0.006256   \n",
      "\n",
      "                         60%       70%       80%       90%      100%  \n",
      "deep-BR             0.840620  0.839620  0.836720  0.833050       NaN  \n",
      "deep-NA             0.856380  0.846840  0.845250  0.852770  0.855660  \n",
      "deep-AR             0.836180  0.840590  0.834440  0.842860  0.839590  \n",
      "deep-CG             0.837800  0.838300  0.837300  0.842200  0.842300  \n",
      "mean                0.842745  0.841338  0.838427  0.842720  0.845850  \n",
      "standard deviation  0.009273  0.003786  0.004713  0.008058  0.008603  \n"
     ]
    }
   ],
   "source": [
    "df_br = read_csv('lc-br.csv')\n",
    "df_team_deepnet = df_br['Deepnet']\n",
    "df_team_deepnet.name = 'deep-BR'\n",
    "df_team_deepnet = pd.DataFrame(df_team_deepnet)\n",
    "#\n",
    "df_na = read_csv('lc-na.csv')\n",
    "df_na = df_na['deepnet']\n",
    "df_na.name = 'deep-NA'\n",
    "df_na = pd.DataFrame(df_na)\n",
    "df_team_deepnet = pd.concat([df_team_deepnet,df_na], axis = 1)\n",
    "#\n",
    "df_ar = read_csv('lc-ar.csv')\n",
    "df_ar = df_ar['Deepnet']\n",
    "df_ar.name = 'deep-AR'\n",
    "df_ar = pd.DataFrame(df_ar)\n",
    "df_team_deepnet = pd.concat([df_team_deepnet,df_ar], axis = 1)\n",
    "#\n",
    "df_cg = read_csv('lc-cg.csv')\n",
    "df_cg = df_cg['Deepnet']\n",
    "df_cg.name = 'deep-CG'\n",
    "df_cg = pd.DataFrame(df_cg)\n",
    "df_team_deepnet = pd.concat([df_team_deepnet,df_cg], axis = 1)\n",
    "\n",
    "\n",
    "\n",
    "#print(df_team_deepnet)\n",
    "\n",
    "df_team_deepnet = df_team_deepnet.T\n",
    "\n",
    "df_team_deepnet_m = df_team_deepnet.mean(axis=0)\n",
    "df_team_deepnet_m.name = 'mean' \n",
    "df_team_deepnet_m = pd.DataFrame(df_team_deepnet_m)\n",
    "df_team_deepnet_mT = df_team_deepnet_m.T\n",
    "#print(df_team_deepnet_mT)\n",
    "\n",
    "df_team_deepnet_std = df_team_deepnet.std(axis=0)\n",
    "df_team_deepnet_std.name = 'standard deviation' \n",
    "df_team_deepnet_std = pd.DataFrame(df_team_deepnet_std)\n",
    "df_team_deepnet_stdT = df_team_deepnet_std.T\n",
    "#\n",
    "df_team_deepnet_m_std = pd.concat([df_team_deepnet_mT, df_team_deepnet_stdT], axis = 0)\n",
    "df_team_deepnet = pd.concat([df_team_deepnet, df_team_deepnet_m_std], axis = 0)\n",
    "df_team_deepnet\n",
    "#\n",
    "ChgCol = ['10%','20%','30%','40%','50%','60%','70%','80%','90%','100%']\n",
    "df_team_deepnet.columns = ChgCol  \n",
    "print(df_team_deepnet)"
   ]
  },
  {
   "cell_type": "markdown",
   "metadata": {},
   "source": [
    "Visializing error by standrd deviation\n",
    "https://jakevdp.github.io/PythonDataScienceHandbook/04.03-errorbars.html"
   ]
  },
  {
   "cell_type": "code",
   "execution_count": 14,
   "metadata": {},
   "outputs": [
    {
     "name": "stdout",
     "output_type": "stream",
     "text": [
      "                         10%       20%       30%       40%       50%  \\\n",
      "ens-BR              0.833630  0.845490  0.847710  0.853420  0.854810   \n",
      "ens-NA              0.855280  0.868810  0.875010  0.876830  0.877710   \n",
      "ens-AR              0.829680  0.843230  0.844850  0.851280  0.853090   \n",
      "mean                0.839530  0.852510  0.855857  0.860510  0.861870   \n",
      "standard deviation  0.013782  0.014161  0.016649  0.014174  0.013745   \n",
      "\n",
      "                         60%       70%       80%       90%      100%  \n",
      "ens-BR              0.856700  0.856150  0.856700  0.857580       NaN  \n",
      "ens-NA              0.878900  0.878550  0.880210  0.880480  0.879790  \n",
      "ens-AR              0.854530  0.854340  0.854790  0.854420  0.855130  \n",
      "mean                0.863377  0.863013  0.863900  0.864160  0.867460  \n",
      "standard deviation  0.013487  0.013486  0.014157  0.014222  0.017437  \n"
     ]
    },
    {
     "data": {
      "image/png": "[encoded data removed]",
      "text/plain": [
       "<Figure size 432x288 with 1 Axes>"
      ]
     },
     "metadata": {
      "needs_background": "light"
     },
     "output_type": "display_data"
    }
   ],
   "source": [
    "print(df_team_ensemble)\n",
    "\n",
    "#chart errorbar\n",
    "x = df_team_ensemble.columns\n",
    "dy = df_team_ensemble.loc['standard deviation'] \n",
    "y = df_team_ensemble.loc['mean']\n",
    "plt.errorbar(x, y, yerr=dy, fmt='.k');\n"
   ]
  },
  {
   "cell_type": "code",
   "execution_count": 15,
   "metadata": {},
   "outputs": [
    {
     "data": {
      "text/plain": [
       "<matplotlib.collections.PolyCollection at 0x7f604a22b5c0>"
      ]
     },
     "execution_count": 15,
     "metadata": {},
     "output_type": "execute_result"
    },
    {
     "data": {
      "image/png": "[encoded data removed]",
      "text/plain": [
       "<Figure size 432x288 with 1 Axes>"
      ]
     },
     "metadata": {
      "needs_background": "light"
     },
     "output_type": "display_data"
    }
   ],
   "source": [
    "\n",
    "x = df_team_ensemble.columns\n",
    "y1 = df_team_ensemble.loc['ens-AR']\n",
    "y2 = df_team_ensemble.loc['ens-BR']\n",
    "y3 = df_team_ensemble.loc['ens-NA']\n",
    "\n",
    "mean = df_team_ensemble.loc['mean']\n",
    "stdev = df_team_ensemble.loc['standard deviation']\n",
    "\n",
    "plt.scatter(x,y1)\n",
    "plt.scatter(x,y2)\n",
    "plt.scatter(x,y3)\n",
    "plt.plot(mean)\n",
    "\n",
    "plt.fill_between(x,mean-stdev,mean+stdev,alpha = 0.1)\n"
   ]
  },
  {
   "cell_type": "code",
   "execution_count": 20,
   "metadata": {},
   "outputs": [
    {
     "data": {
      "text/html": [
       "<div>\n",
       "<style scoped>\n",
       "    .dataframe tbody tr th:only-of-type {\n",
       "        vertical-align: middle;\n",
       "    }\n",
       "\n",
       "    .dataframe tbody tr th {\n",
       "        vertical-align: top;\n",
       "    }\n",
       "\n",
       "    .dataframe thead th {\n",
       "        text-align: right;\n",
       "    }\n",
       "</style>\n",
       "<table border=\"1\" class=\"dataframe\">\n",
       "  <thead>\n",
       "    <tr style=\"text-align: right;\">\n",
       "      <th></th>\n",
       "      <th>10%</th>\n",
       "      <th>20%</th>\n",
       "      <th>30%</th>\n",
       "      <th>40%</th>\n",
       "      <th>50%</th>\n",
       "      <th>60%</th>\n",
       "      <th>70%</th>\n",
       "      <th>80%</th>\n",
       "      <th>90%</th>\n",
       "      <th>100%</th>\n",
       "    </tr>\n",
       "  </thead>\n",
       "  <tbody>\n",
       "    <tr>\n",
       "      <th>ens-BR</th>\n",
       "      <td>0.833630</td>\n",
       "      <td>0.845490</td>\n",
       "      <td>0.847710</td>\n",
       "      <td>0.853420</td>\n",
       "      <td>0.854810</td>\n",
       "      <td>0.856700</td>\n",
       "      <td>0.856150</td>\n",
       "      <td>0.856700</td>\n",
       "      <td>0.857580</td>\n",
       "      <td>NaN</td>\n",
       "    </tr>\n",
       "    <tr>\n",
       "      <th>ens-NA</th>\n",
       "      <td>0.855280</td>\n",
       "      <td>0.868810</td>\n",
       "      <td>0.875010</td>\n",
       "      <td>0.876830</td>\n",
       "      <td>0.877710</td>\n",
       "      <td>0.878900</td>\n",
       "      <td>0.878550</td>\n",
       "      <td>0.880210</td>\n",
       "      <td>0.880480</td>\n",
       "      <td>0.879790</td>\n",
       "    </tr>\n",
       "    <tr>\n",
       "      <th>ens-AR</th>\n",
       "      <td>0.829680</td>\n",
       "      <td>0.843230</td>\n",
       "      <td>0.844850</td>\n",
       "      <td>0.851280</td>\n",
       "      <td>0.853090</td>\n",
       "      <td>0.854530</td>\n",
       "      <td>0.854340</td>\n",
       "      <td>0.854790</td>\n",
       "      <td>0.854420</td>\n",
       "      <td>0.855130</td>\n",
       "    </tr>\n",
       "    <tr>\n",
       "      <th>ens-CG</th>\n",
       "      <td>0.826700</td>\n",
       "      <td>0.843200</td>\n",
       "      <td>0.844800</td>\n",
       "      <td>0.849900</td>\n",
       "      <td>0.850500</td>\n",
       "      <td>0.851700</td>\n",
       "      <td>0.854700</td>\n",
       "      <td>0.852200</td>\n",
       "      <td>0.854400</td>\n",
       "      <td>0.854700</td>\n",
       "    </tr>\n",
       "    <tr>\n",
       "      <th>mean</th>\n",
       "      <td>0.836322</td>\n",
       "      <td>0.850182</td>\n",
       "      <td>0.853093</td>\n",
       "      <td>0.857857</td>\n",
       "      <td>0.859028</td>\n",
       "      <td>0.860457</td>\n",
       "      <td>0.860935</td>\n",
       "      <td>0.860975</td>\n",
       "      <td>0.861720</td>\n",
       "      <td>0.863207</td>\n",
       "    </tr>\n",
       "    <tr>\n",
       "      <th>standard deviation</th>\n",
       "      <td>0.012953</td>\n",
       "      <td>0.012465</td>\n",
       "      <td>0.014675</td>\n",
       "      <td>0.012731</td>\n",
       "      <td>0.012580</td>\n",
       "      <td>0.012464</td>\n",
       "      <td>0.011769</td>\n",
       "      <td>0.012955</td>\n",
       "      <td>0.012596</td>\n",
       "      <td>0.014363</td>\n",
       "    </tr>\n",
       "  </tbody>\n",
       "</table>\n",
       "</div>"
      ],
      "text/plain": [
       "                         10%       20%       30%       40%       50%  \\\n",
       "ens-BR              0.833630  0.845490  0.847710  0.853420  0.854810   \n",
       "ens-NA              0.855280  0.868810  0.875010  0.876830  0.877710   \n",
       "ens-AR              0.829680  0.843230  0.844850  0.851280  0.853090   \n",
       "ens-CG              0.826700  0.843200  0.844800  0.849900  0.850500   \n",
       "mean                0.836322  0.850182  0.853093  0.857857  0.859028   \n",
       "standard deviation  0.012953  0.012465  0.014675  0.012731  0.012580   \n",
       "\n",
       "                         60%       70%       80%       90%      100%  \n",
       "ens-BR              0.856700  0.856150  0.856700  0.857580       NaN  \n",
       "ens-NA              0.878900  0.878550  0.880210  0.880480  0.879790  \n",
       "ens-AR              0.854530  0.854340  0.854790  0.854420  0.855130  \n",
       "ens-CG              0.851700  0.854700  0.852200  0.854400  0.854700  \n",
       "mean                0.860457  0.860935  0.860975  0.861720  0.863207  \n",
       "standard deviation  0.012464  0.011769  0.012955  0.012596  0.014363  "
      ]
     },
     "execution_count": 20,
     "metadata": {},
     "output_type": "execute_result"
    },
    {
     "data": {
      "image/png": "[encoded data removed]",
      "text/plain": [
       "<Figure size 1080x360 with 2 Axes>"
      ]
     },
     "metadata": {
      "needs_background": "light"
     },
     "output_type": "display_data"
    }
   ],
   "source": [
    "\n",
    "x = df_team_ensemble.columns\n",
    "y1 = df_team_ensemble.loc['ens-AR']\n",
    "y1l='ens-AR'\n",
    "y2 = df_team_ensemble.loc['ens-BR']\n",
    "y2l='ens-BR'\n",
    "y3 = df_team_ensemble.loc['ens-NA']\n",
    "y3l = 'ens-NA'\n",
    "y4 = df_team_ensemble.loc['ens-CG']\n",
    "y4l='ens-CG'\n",
    "\n",
    "mean = df_team_ensemble.loc['mean']\n",
    "stdev = df_team_ensemble.loc['standard deviation']\n",
    "\n",
    "fig, axs = plt.subplots(1, 2,figsize=(15, 5))\n",
    "axs[0].errorbar(x, mean, yerr=stdev, fmt='.k');\n",
    "axs[0].legend()\n",
    "\n",
    "axs[1].scatter(x, y1)\n",
    "axs[1].scatter(x, y2)\n",
    "axs[1].scatter(x, y3)\n",
    "axs[1].scatter(x, y4)\n",
    "axs[1].plot(x, mean)\n",
    "axs[1].fill_between(x,mean-stdev,mean+stdev,alpha = 0.1)\n",
    "axs[1].legend()\n",
    "fig.suptitle('Learning curve : Ensemble - Team')\n",
    "df_team_ensemble.head(6)"
   ]
  },
  {
   "cell_type": "code",
   "execution_count": 19,
   "metadata": {},
   "outputs": [
    {
     "data": {
      "text/html": [
       "<div>\n",
       "<style scoped>\n",
       "    .dataframe tbody tr th:only-of-type {\n",
       "        vertical-align: middle;\n",
       "    }\n",
       "\n",
       "    .dataframe tbody tr th {\n",
       "        vertical-align: top;\n",
       "    }\n",
       "\n",
       "    .dataframe thead th {\n",
       "        text-align: right;\n",
       "    }\n",
       "</style>\n",
       "<table border=\"1\" class=\"dataframe\">\n",
       "  <thead>\n",
       "    <tr style=\"text-align: right;\">\n",
       "      <th></th>\n",
       "      <th>10%</th>\n",
       "      <th>20%</th>\n",
       "      <th>30%</th>\n",
       "      <th>40%</th>\n",
       "      <th>50%</th>\n",
       "      <th>60%</th>\n",
       "      <th>70%</th>\n",
       "      <th>80%</th>\n",
       "      <th>90%</th>\n",
       "      <th>100%</th>\n",
       "    </tr>\n",
       "  </thead>\n",
       "  <tbody>\n",
       "    <tr>\n",
       "      <th>deep-BR</th>\n",
       "      <td>0.834340</td>\n",
       "      <td>0.836230</td>\n",
       "      <td>0.838330</td>\n",
       "      <td>0.837030</td>\n",
       "      <td>0.832340</td>\n",
       "      <td>0.840620</td>\n",
       "      <td>0.839620</td>\n",
       "      <td>0.836720</td>\n",
       "      <td>0.833050</td>\n",
       "      <td>NaN</td>\n",
       "    </tr>\n",
       "    <tr>\n",
       "      <th>deep-NA</th>\n",
       "      <td>0.839340</td>\n",
       "      <td>0.851090</td>\n",
       "      <td>0.851960</td>\n",
       "      <td>0.848160</td>\n",
       "      <td>0.847310</td>\n",
       "      <td>0.856380</td>\n",
       "      <td>0.846840</td>\n",
       "      <td>0.845250</td>\n",
       "      <td>0.852770</td>\n",
       "      <td>0.855660</td>\n",
       "    </tr>\n",
       "    <tr>\n",
       "      <th>deep-AR</th>\n",
       "      <td>0.837810</td>\n",
       "      <td>0.836230</td>\n",
       "      <td>0.838920</td>\n",
       "      <td>0.828460</td>\n",
       "      <td>0.838840</td>\n",
       "      <td>0.836180</td>\n",
       "      <td>0.840590</td>\n",
       "      <td>0.834440</td>\n",
       "      <td>0.842860</td>\n",
       "      <td>0.839590</td>\n",
       "    </tr>\n",
       "    <tr>\n",
       "      <th>deep-CG</th>\n",
       "      <td>0.539900</td>\n",
       "      <td>0.655000</td>\n",
       "      <td>0.804200</td>\n",
       "      <td>0.837500</td>\n",
       "      <td>0.842000</td>\n",
       "      <td>0.837800</td>\n",
       "      <td>0.838300</td>\n",
       "      <td>0.837300</td>\n",
       "      <td>0.842200</td>\n",
       "      <td>0.842300</td>\n",
       "    </tr>\n",
       "    <tr>\n",
       "      <th>mean</th>\n",
       "      <td>0.762848</td>\n",
       "      <td>0.794637</td>\n",
       "      <td>0.833352</td>\n",
       "      <td>0.837788</td>\n",
       "      <td>0.840122</td>\n",
       "      <td>0.842745</td>\n",
       "      <td>0.841338</td>\n",
       "      <td>0.838427</td>\n",
       "      <td>0.842720</td>\n",
       "      <td>0.845850</td>\n",
       "    </tr>\n",
       "    <tr>\n",
       "      <th>standard deviation</th>\n",
       "      <td>0.148646</td>\n",
       "      <td>0.093355</td>\n",
       "      <td>0.020428</td>\n",
       "      <td>0.008067</td>\n",
       "      <td>0.006256</td>\n",
       "      <td>0.009273</td>\n",
       "      <td>0.003786</td>\n",
       "      <td>0.004713</td>\n",
       "      <td>0.008058</td>\n",
       "      <td>0.008603</td>\n",
       "    </tr>\n",
       "  </tbody>\n",
       "</table>\n",
       "</div>"
      ],
      "text/plain": [
       "                         10%       20%       30%       40%       50%  \\\n",
       "deep-BR             0.834340  0.836230  0.838330  0.837030  0.832340   \n",
       "deep-NA             0.839340  0.851090  0.851960  0.848160  0.847310   \n",
       "deep-AR             0.837810  0.836230  0.838920  0.828460  0.838840   \n",
       "deep-CG             0.539900  0.655000  0.804200  0.837500  0.842000   \n",
       "mean                0.762848  0.794637  0.833352  0.837788  0.840122   \n",
       "standard deviation  0.148646  0.093355  0.020428  0.008067  0.006256   \n",
       "\n",
       "                         60%       70%       80%       90%      100%  \n",
       "deep-BR             0.840620  0.839620  0.836720  0.833050       NaN  \n",
       "deep-NA             0.856380  0.846840  0.845250  0.852770  0.855660  \n",
       "deep-AR             0.836180  0.840590  0.834440  0.842860  0.839590  \n",
       "deep-CG             0.837800  0.838300  0.837300  0.842200  0.842300  \n",
       "mean                0.842745  0.841338  0.838427  0.842720  0.845850  \n",
       "standard deviation  0.009273  0.003786  0.004713  0.008058  0.008603  "
      ]
     },
     "execution_count": 19,
     "metadata": {},
     "output_type": "execute_result"
    },
    {
     "data": {
      "image/png": "[encoded data removed]",
      "text/plain": [
       "<Figure size 1080x360 with 2 Axes>"
      ]
     },
     "metadata": {
      "needs_background": "light"
     },
     "output_type": "display_data"
    }
   ],
   "source": [
    "x = df_team_deepnet.columns\n",
    "y1 = df_team_deepnet.loc['deep-AR']\n",
    "y2 = df_team_deepnet.loc['deep-BR']\n",
    "y3 = df_team_deepnet.loc['deep-NA']\n",
    "y4 = df_team_deepnet.loc['deep-CG']\n",
    "\n",
    "\n",
    "mean = df_team_deepnet.loc['mean']\n",
    "stdev = df_team_deepnet.loc['standard deviation']\n",
    "\n",
    "fig, axs = plt.subplots(1, 2,figsize=(15, 5))\n",
    "axs[0].errorbar(x, mean, yerr=stdev, fmt='.k');\n",
    "axs[0].legend()\n",
    "\n",
    "axs[1].scatter(x, y1)\n",
    "axs[1].scatter(x, y2)\n",
    "axs[1].scatter(x, y3)\n",
    "axs[1].scatter(x, y4)\n",
    "axs[1].plot(x, mean)\n",
    "axs[1].fill_between(x,mean-stdev,mean+stdev,alpha = 0.1)\n",
    "axs[1].legend()\n",
    "fig.suptitle('Learning curve : Deepnet - Team')\n",
    "df_team_deepnet.head(6)"
   ]
  },
  {
   "cell_type": "code",
   "execution_count": null,
   "metadata": {},
   "outputs": [],
   "source": []
  },
  {
   "cell_type": "code",
   "execution_count": null,
   "metadata": {},
   "outputs": [],
   "source": []
  }
 ],
 "metadata": {
  "kernelspec": {
   "display_name": "Python 3",
   "language": "python",
   "name": "python3"
  },
  "language_info": {
   "codemirror_mode": {
    "name": "ipython",
    "version": 3
   },
   "file_extension": ".py",
   "mimetype": "text/x-python",
   "name": "python",
   "nbconvert_exporter": "python",
   "pygments_lexer": "ipython3",
   "version": "3.7.3"
  }
 },
 "nbformat": 4,
 "nbformat_minor": 2
}
