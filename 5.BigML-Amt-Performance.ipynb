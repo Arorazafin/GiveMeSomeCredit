{
 "cells": [
  {
   "cell_type": "markdown",
   "metadata": {},
   "source": [
    "# Performance vs. Amount of sample by BigML "
   ]
  },
  {
   "cell_type": "markdown",
   "metadata": {},
   "source": []
  },
  {
   "cell_type": "code",
   "execution_count": 11,
   "metadata": {},
   "outputs": [],
   "source": [
    "import bigml.api\n",
    "from bigml.api import BigML\n",
    "import pandas as pd\n",
    "from pandas import read_csv\n",
    "import matplotlib.pyplot as plt\n",
    "\n",
    "#%env BIGML_USERNAME=ARORAZA\n",
    "#%env BIGML_API_KEY=d33d21b0264f25d04695ff816607167ae4fd6be7\n",
    "api = BigML()\n",
    "# api = BigML(storage='./storage')"
   ]
  },
  {
   "cell_type": "markdown",
   "metadata": {},
   "source": [
    "Building Source"
   ]
  },
  {
   "cell_type": "code",
   "execution_count": 2,
   "metadata": {},
   "outputs": [
    {
     "data": {
      "text/plain": [
       "True"
      ]
     },
     "execution_count": 2,
     "metadata": {},
     "output_type": "execute_result"
    }
   ],
   "source": [
    "source = api.create_source('Train_Full_New1.csv')\n",
    "api.ok(source)"
   ]
  },
  {
   "cell_type": "markdown",
   "metadata": {},
   "source": [
    "Building Dataset"
   ]
  },
  {
   "cell_type": "code",
   "execution_count": 3,
   "metadata": {},
   "outputs": [
    {
     "data": {
      "text/plain": [
       "True"
      ]
     },
     "execution_count": 3,
     "metadata": {},
     "output_type": "execute_result"
    }
   ],
   "source": [
    "dataset = api.create_dataset(source)\n",
    "api.ok(dataset) "
   ]
  },
  {
   "cell_type": "markdown",
   "metadata": {},
   "source": [
    "Random Split Building dataset into 80% train and 20% Validation"
   ]
  },
  {
   "cell_type": "code",
   "execution_count": 4,
   "metadata": {},
   "outputs": [
    {
     "data": {
      "text/plain": [
       "True"
      ]
     },
     "execution_count": 4,
     "metadata": {},
     "output_type": "execute_result"
    }
   ],
   "source": [
    "train_dataset = api.create_dataset(dataset, {\"name\": \"train\", \"sample_rate\": 0.8, \"seed\": \"my seed\"})\n",
    "api.ok(train_dataset)\n",
    "validation_dataset = api.create_dataset(dataset, {\"name\": \"validation\", \"sample_rate\": 0.8, \"seed\": \"my seed\", \"out_of_bag\": True})\n",
    "api.ok(validation_dataset)"
   ]
  },
  {
   "cell_type": "markdown",
   "metadata": {},
   "source": [
    "Split Train Dataset by 12.000"
   ]
  },
  {
   "cell_type": "code",
   "execution_count": 9,
   "metadata": {},
   "outputs": [],
   "source": [
    "train_dataset1 = api.create_dataset(train_dataset, {\"name\": \"train1\", \"sample_rate\": 0.1, \"seed\": \"my seed\"})\n",
    "train_dataset1b = api.create_dataset(train_dataset, {\"name\": \"train1b\", \"sample_rate\": 0.1, \"seed\": \"my seed\",\"out_of_bag\": True})\n",
    "train_dataset2 = api.create_dataset(train_dataset1b, {\"name\": \"train2\", \"sample_rate\": 0.12, \"seed\": \"my seed\"})\n",
    "train_dataset2b = api.create_dataset(train_dataset1b, {\"name\": \"train2b\", \"sample_rate\": 0.12, \"seed\": \"my seed\",\"out_of_bag\": True})\n",
    "train_dataset3 = api.create_dataset(train_dataset2b, {\"name\": \"train3\", \"sample_rate\": 0.13, \"seed\": \"my seed\"})\n",
    "train_dataset3b = api.create_dataset(train_dataset2b, {\"name\": \"train3b\", \"sample_rate\": 0.13, \"seed\": \"my seed\",\"out_of_bag\": True})\n",
    "train_dataset4 = api.create_dataset(train_dataset3b, {\"name\": \"train4\", \"sample_rate\": 0.15, \"seed\": \"my seed\"})\n",
    "train_dataset4b = api.create_dataset(train_dataset3b, {\"name\": \"train4b\", \"sample_rate\": 0.15, \"seed\": \"my seed\",\"out_of_bag\": True})\n",
    "train_dataset5 = api.create_dataset(train_dataset4b, {\"name\": \"train5\", \"sample_rate\": 0.17, \"seed\": \"my seed\"})\n",
    "train_dataset5b = api.create_dataset(train_dataset4b, {\"name\": \"train5b\", \"sample_rate\": 0.17, \"seed\": \"my seed\",\"out_of_bag\": True})\n",
    "train_dataset6 = api.create_dataset(train_dataset5b, {\"name\": \"train6\", \"sample_rate\": 0.21, \"seed\": \"my seed\"})\n",
    "train_dataset6b = api.create_dataset(train_dataset5b, {\"name\": \"train6b\", \"sample_rate\": 0.21, \"seed\": \"my seed\",\"out_of_bag\": True})\n",
    "train_dataset7 = api.create_dataset(train_dataset6b, {\"name\": \"train7\", \"sample_rate\": 0.26, \"seed\": \"my seed\"})\n",
    "train_dataset7b = api.create_dataset(train_dataset6b, {\"name\": \"train7b\", \"sample_rate\": 0.26, \"seed\": \"my seed\",\"out_of_bag\": True})\n",
    "train_dataset8 = api.create_dataset(train_dataset7b, {\"name\": \"train8\", \"sample_rate\": 0.35, \"seed\": \"my seed\"})\n",
    "train_dataset8b = api.create_dataset(train_dataset7b, {\"name\": \"train8b\", \"sample_rate\": 0.35, \"seed\": \"my seed\",\"out_of_bag\": True})\n",
    "train_dataset9 = api.create_dataset(train_dataset8b, {\"name\": \"train9\", \"sample_rate\": 0.45, \"seed\": \"my seed\"})\n",
    "train_dataset9b = api.create_dataset(train_dataset8b, {\"name\": \"train9b\", \"sample_rate\": 0.45, \"seed\": \"my seed\",\"out_of_bag\": True})\n"
   ]
  },
  {
   "cell_type": "markdown",
   "metadata": {},
   "source": [
    "For 1 model"
   ]
  },
  {
   "cell_type": "code",
   "execution_count": 111,
   "metadata": {},
   "outputs": [
    {
     "name": "stdout",
     "output_type": "stream",
     "text": [
      "      model                                            dataset  Sample  \\\n",
      "1  ensemble  {'code': 201, 'resource': 'dataset/5dbc70eb529...   12192   \n",
      "2  ensemble  {'code': 201, 'resource': 'dataset/5dbc70e2529...   22167   \n",
      "3  ensemble  {'code': 201, 'resource': 'dataset/5dbc70cbe47...   34103   \n",
      "4  ensemble  {'code': 201, 'resource': 'dataset/5dbc70bd781...   46085   \n",
      "5  ensemble  {'code': 201, 'resource': 'dataset/5dbc70ad781...   58335   \n",
      "\n",
      "   Performance  \n",
      "1      0.83267  \n",
      "2      0.84390  \n",
      "3      0.84771  \n",
      "4      0.85096  \n",
      "5      0.85290  \n"
     ]
    },
    {
     "data": {
      "text/plain": [
       "<matplotlib.axes._subplots.AxesSubplot at 0x7fd84f411898>"
      ]
     },
     "execution_count": 111,
     "metadata": {},
     "output_type": "execute_result"
    },
    {
     "data": {
      "image/png": "[encoded data removed]",
      "text/plain": [
       "<Figure size 432x288 with 1 Axes>"
      ]
     },
     "metadata": {
      "needs_background": "light"
     },
     "output_type": "display_data"
    }
   ],
   "source": [
    "model = \"ensemble\"\n",
    "\n",
    "dt_set = [train_dataset9b,\n",
    "         train_dataset8b,\n",
    "         train_dataset7b,\n",
    "         train_dataset6b,\n",
    "         train_dataset5b,\n",
    "         train_dataset4b,\n",
    "         train_dataset3b,\n",
    "         train_dataset2b,\n",
    "         train_dataset1b,\n",
    "         train_dataset] \n",
    "\n",
    "Amount = [12192,22167,34103,46085,58335,70283,82685,95040,108000,120000]\n",
    "\n",
    "res_AmtPer = pd.DataFrame({\"model\" : model, \"dataset\" : ['data'], \"Sample\" : [0], \"Performance\": [0]})\n",
    "\n",
    "i=0\n",
    "for d in dt_set:\n",
    "    if model == \"ensemble\":    \n",
    "        mod = api.create_ensemble(d)\n",
    "        api.ok(mod)\n",
    "    if model == \"deepnet\":\n",
    "        mod = api.create_deepnet(d)\n",
    "        api.ok(mod)\n",
    "        \n",
    "    evaluation = api.create_evaluation(mod,validation_dataset)\n",
    "    api.ok(evaluation)\n",
    "    auc = evaluation['object']['result']['model']['average_area_under_roc_curve']\n",
    "    res_AmtPer = res_AmtPer.append({\"model\" : model, \"dataset\" : dt_set[i], \"Sample\" :Amount[i], \"Performance\": auc}, ignore_index = True)\n",
    "    i=i+1\n",
    "        \n",
    "res_AmtPer = res_AmtPer.drop([0],axis =0)\n",
    "print (res_AmtPer.head(5))\n",
    "title = \"model : \" + res_AmtPer ['model'][1]\n",
    "res_AmtPer.plot(x='Sample' , y='Performance', title = title)"
   ]
  },
  {
   "cell_type": "markdown",
   "metadata": {},
   "source": [
    "For 2 models"
   ]
  },
  {
   "cell_type": "code",
   "execution_count": 110,
   "metadata": {},
   "outputs": [
    {
     "name": "stdout",
     "output_type": "stream",
     "text": [
      "                                             dataset  Sample  Perf_Model1  \\\n",
      "1  {'code': 201, 'resource': 'dataset/5dbc70eb529...   12192      0.82734   \n",
      "2  {'code': 201, 'resource': 'dataset/5dbc70e2529...   22167      0.84295   \n",
      "3  {'code': 201, 'resource': 'dataset/5dbc70cbe47...   34103      0.84677   \n",
      "4  {'code': 201, 'resource': 'dataset/5dbc70bd781...   46085      0.84991   \n",
      "5  {'code': 201, 'resource': 'dataset/5dbc70ad781...   58335      0.85185   \n",
      "\n",
      "   Perf_Model2  \n",
      "1      0.83781  \n",
      "2      0.83623  \n",
      "3      0.83892  \n",
      "4      0.82846  \n",
      "5      0.83884  \n"
     ]
    },
    {
     "data": {
      "text/plain": [
       "<matplotlib.axes._subplots.AxesSubplot at 0x7fd84f6ba198>"
      ]
     },
     "execution_count": 110,
     "metadata": {},
     "output_type": "execute_result"
    },
    {
     "data": {
      "image/png": "[encoded data removed]",
      "text/plain": [
       "<Figure size 432x288 with 1 Axes>"
      ]
     },
     "metadata": {
      "needs_background": "light"
     },
     "output_type": "display_data"
    }
   ],
   "source": [
    "bigml_models = ['ensemble','deepnet']\n",
    "res_AmtPer = pd.DataFrame({\"dataset\" : ['data'], \"Sample\" : [0], \"Perf_Model1\": [0],\"Perf_Model2\": [0] })\n",
    "\n",
    "dt_set = [train_dataset9b,\n",
    "         train_dataset8b,\n",
    "         train_dataset7b,\n",
    "         train_dataset6b,\n",
    "         train_dataset5b,\n",
    "         train_dataset4b,\n",
    "         train_dataset3b,\n",
    "         train_dataset2b,\n",
    "         train_dataset1b,\n",
    "         train_dataset] \n",
    "\n",
    "Amount = [12192,22167,34103,46085,58335,70283,82685,95040,108000,120000]\n",
    "\n",
    "\n",
    "i=0\n",
    "for d in dt_set:\n",
    "    # model1 = ensemble     \n",
    "    mod = api.create_ensemble(d)\n",
    "    api.ok(mod)\n",
    "    evaluation = api.create_evaluation(mod,validation_dataset)\n",
    "    api.ok(evaluation)\n",
    "    auc_mod1 = evaluation['object']['result']['model']['average_area_under_roc_curve']\n",
    "    \n",
    "    # model2 = deeptnet     \n",
    "    mod = api.create_deepnet(d)\n",
    "    api.ok(mod)\n",
    "    evaluation = api.create_evaluation(mod,validation_dataset)\n",
    "    api.ok(evaluation)\n",
    "    auc_mod2 = evaluation['object']['result']['model']['average_area_under_roc_curve']\n",
    "    \n",
    "    res_AmtPer = res_AmtPer.append({\"dataset\" : dt_set[i], \"Sample\" :Amount[i], \"Perf_Model1\": auc_mod1, \"Perf_Model2\": auc_mod2}, ignore_index = True)\n",
    "    i=i+1\n",
    "        \n",
    "res_AmtPer = res_AmtPer.drop([0],axis =0)\n",
    "print (res_AmtPer.head(5))\n",
    "\n",
    "title = \"model 1 : \" + bigml_models [0] + \" - model 2 : \" + bigml_models [1] \n",
    "res_AmtPer.plot(x='Sample' , y=['Perf_Model1','Perf_Model2'], title = title)\n"
   ]
  },
  {
   "cell_type": "markdown",
   "metadata": {},
   "source": [
    "Building evaluation and print evaluation"
   ]
  },
  {
   "cell_type": "markdown",
   "metadata": {},
   "source": [
    "Print"
   ]
  }
 ],
 "metadata": {
  "kernelspec": {
   "display_name": "Python 3",
   "language": "python",
   "name": "python3"
  },
  "language_info": {
   "codemirror_mode": {
    "name": "ipython",
    "version": 3
   },
   "file_extension": ".py",
   "mimetype": "text/x-python",
   "name": "python",
   "nbconvert_exporter": "python",
   "pygments_lexer": "ipython3",
   "version": "3.7.3"
  }
 },
 "nbformat": 4,
 "nbformat_minor": 2
}
