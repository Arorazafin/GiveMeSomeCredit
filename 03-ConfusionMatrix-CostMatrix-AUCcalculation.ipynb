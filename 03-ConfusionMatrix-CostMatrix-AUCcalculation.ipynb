{
 "cells": [
  {
   "cell_type": "markdown",
   "metadata": {},
   "source": [
    "# Confusion Matrix by Pandas"
   ]
  },
  {
   "cell_type": "code",
   "execution_count": 2,
   "metadata": {},
   "outputs": [],
   "source": [
    "import pandas as pd\n",
    "from pandas import read_csv\n",
    "import matplotlib.pyplot as plt"
   ]
  },
  {
   "cell_type": "code",
   "execution_count": 5,
   "metadata": {},
   "outputs": [
    {
     "name": "stdout",
     "output_type": "stream",
     "text": [
      "<class 'pandas.core.frame.DataFrame'>\n",
      "RangeIndex: 30000 entries, 0 to 29999\n",
      "Data columns (total 17 columns):\n",
      "field1                                  30000 non-null int64\n",
      "RevolvingUtilizationOfUnsecuredLines    30000 non-null float64\n",
      "age                                     30000 non-null int64\n",
      "NumberOfTime30-59DaysPastDueNotWorse    30000 non-null int64\n",
      "DebtRatio                               30000 non-null float64\n",
      "MonthlyIncome                           23999 non-null float64\n",
      "NumberOfOpenCreditLinesAndLoans         30000 non-null int64\n",
      "NumberOfTimes90DaysLate                 30000 non-null int64\n",
      "NumberRealEstateLoansOrLines            30000 non-null int64\n",
      "NumberOfTime60-89DaysPastDueNotWorse    30000 non-null int64\n",
      "NumberOfDependents                      29192 non-null float64\n",
      "NumberOfTimes90DaysLate_TOTAL           30000 non-null int64\n",
      "IsOld                                   30000 non-null bool\n",
      "SeriousDlqin2yrs                        30000 non-null int64\n",
      "SeriousDlqin2yrs.1                      30000 non-null int64\n",
      "0 probability                           30000 non-null float64\n",
      "1 probability                           30000 non-null float64\n",
      "dtypes: bool(1), float64(6), int64(10)\n",
      "memory usage: 3.7 MB\n"
     ]
    }
   ],
   "source": [
    "#Upload csv\n",
    "df_val = read_csv('my_predictions_val.csv')\n",
    "df_val.info()"
   ]
  },
  {
   "cell_type": "code",
   "execution_count": 3,
   "metadata": {},
   "outputs": [],
   "source": [
    "#COST Matrix\n",
    "pl0_0 = 500    #TN\n",
    "pl1_0 = -2500  #FN\n",
    "pl0_1 = -500   #FP\n",
    "pl1_1 = 0      #TP"
   ]
  },
  {
   "cell_type": "code",
   "execution_count": 4,
   "metadata": {},
   "outputs": [],
   "source": [
    "#Precison\n",
    "p = 100"
   ]
  },
  {
   "cell_type": "code",
   "execution_count": 5,
   "metadata": {},
   "outputs": [],
   "source": [
    "def CalculError_seuil4 (SeriousDlqin2yrs,df_seuil):\n",
    "    if df_seuil:\n",
    "        if SeriousDlqin2yrs == 1 :\n",
    "            return 'TN' #(1,1,>seuil)\n",
    "        else :\n",
    "            return 'FN'\n",
    "    else:\n",
    "        if SeriousDlqin2yrs == 0: \n",
    "            return 'TP' #(0,0 < seuil)\n",
    "        else :\n",
    "            return 'FP' "
   ]
  },
  {
   "cell_type": "code",
   "execution_count": 6,
   "metadata": {},
   "outputs": [],
   "source": [
    "def calcul_gain (s,pl0_0,pl0_1,pl1_0,pl1_1,option): \n",
    "    \n",
    "    tp=0\n",
    "    fp=0\n",
    "    fn=0\n",
    "    tn=0\n",
    "\n",
    "    df_val ['seuil'] =  (df_val['1 probability'] >= s)\n",
    "    \n",
    "    df_val['error']= df_val.apply (lambda x: CalculError_seuil4(x['SeriousDlqin2yrs'],x['seuil']), axis = 1)\n",
    "\n",
    "    error_stat = df_val.groupby('error')['field1'].nunique()\n",
    "   \n",
    "    for res in error_stat.index :\n",
    "        if res == 'TP':\n",
    "            tp = error_stat.loc['TP']\n",
    "        \n",
    "        if res == 'FP':\n",
    "            fp = error_stat.loc['FP']\n",
    "        \n",
    "        if res == 'FN':\n",
    "            fn = error_stat.loc['FN']\n",
    "        \n",
    "        if res == 'TN':\n",
    "            tn = error_stat.loc['TN']\n",
    "\n",
    "    \n",
    "    \n",
    "    df_matrixConfusion = pd.DataFrame({'Prediction 0' : [tp,fp], 'Prediction 1':[fn,tn]},index = ['Actual 0', 'Actual 1'] )\n",
    "    df_matrixCost = pd.DataFrame({'Prediction 0' : [pl0_0,pl1_0], 'Prediction 1':[pl0_1, pl1_1]},index = ['Actual 0', 'Actual 1'] )\n",
    "    total_gain = df_matrixCost * df_matrixConfusion\n",
    "    total_gain2 = total_gain.sum (axis = 1)\n",
    "    total_gain3 = total_gain2.sum (axis = 0)\n",
    "    \n",
    "    if tp == 0 and fp == 0:\n",
    "        tpr = 0\n",
    "    else:\n",
    "        tpr = tp/(tp+fn) #sensitivity\n",
    "    \n",
    "    if tn == 0 and fn ==0:\n",
    "        tnr = 0\n",
    "    else:\n",
    "        tnr = tn/(tn+fp)  #specificity\n",
    "    fpr = 1- tnr\n",
    "    \n",
    "    roc = [tpr, fpr, tnr, tp, fp, fn, tn]\n",
    "    \n",
    "    switcher={\n",
    "                1: error_stat,\n",
    "                2: df_matrixConfusion,\n",
    "                3: df_matrixCost,\n",
    "                4: total_gain3,\n",
    "                5: roc\n",
    "    }\n",
    "    return switcher.get(option,\"Invalid option\")\n",
    "    "
   ]
  },
  {
   "cell_type": "code",
   "execution_count": 7,
   "metadata": {},
   "outputs": [
    {
     "name": "stdout",
     "output_type": "stream",
     "text": [
      "\n",
      "**** Pour un seuil :  0.5\n",
      "error\n",
      "FN      236\n",
      "FP     1686\n",
      "TN      329\n",
      "TP    27749\n",
      "Name: field1, dtype: int64\n",
      "\n",
      "** Matrice de confusion\n",
      "          Prediction 0  Prediction 1\n",
      "Actual 0         27749           236\n",
      "Actual 1          1686           329\n",
      "\n",
      "** Matrice de cout\n",
      "          Prediction 0  Prediction 1\n",
      "Actual 0           500          -500\n",
      "Actual 1         -2500             0\n",
      "\n",
      " => Le P&L est de 9541500 à ce seuil\n"
     ]
    }
   ],
   "source": [
    "#df_val.info()\n",
    "\n",
    "seuil = 0.5\n",
    "res = calcul_gain (seuil,pl0_0,pl0_1,pl1_0,pl1_1,1)\n",
    "\n",
    "mtxcf = calcul_gain (seuil,pl0_0,pl0_1,pl1_0,pl1_1,2)\n",
    "mtxct = calcul_gain (seuil,pl0_0,pl0_1,pl1_0,pl1_1,3)\n",
    "pl05 = calcul_gain (seuil,pl0_0,pl0_1,pl1_0,pl1_1,4)\n",
    "\n",
    "print()\n",
    "print ('**** Pour un seuil : ',seuil )\n",
    "print (res)\n",
    "print()\n",
    "print ('** Matrice de confusion')\n",
    "print (mtxcf)\n",
    "print()\n",
    "print ('** Matrice de cout')\n",
    "print (mtxct)\n",
    "print()\n",
    "print (f' => Le P&L est de {pl05} à ce seuil')\n"
   ]
  },
  {
   "cell_type": "code",
   "execution_count": 221,
   "metadata": {},
   "outputs": [
    {
     "name": "stdout",
     "output_type": "stream",
     "text": [
      "**** Gain Maximum ****\n",
      "=> Le P&L maximum est de 9989500 au seuil de 0.29\n"
     ]
    },
    {
     "data": {
      "text/plain": [
       "<matplotlib.axes._subplots.AxesSubplot at 0x7fccb591e400>"
      ]
     },
     "execution_count": 221,
     "metadata": {},
     "output_type": "execute_result"
    },
    {
     "data": {
      "image/png": "[encoded data removed]",
      "text/plain": [
       "<Figure size 432x288 with 1 Axes>"
      ]
     },
     "metadata": {
      "needs_background": "light"
     },
     "output_type": "display_data"
    }
   ],
   "source": [
    "print ('**** Gain Maximum ****')\n",
    "\n",
    "dfx = pd.concat([pd.DataFrame({ 'seuil': [i/p],\n",
    "                                'gain' : [calcul_gain(i/p,pl0_0,pl0_1,pl1_0,pl1_1,4)]}) \n",
    "                                 for i in range (1,int(10*p/10))], ignore_index=True)\n",
    "\n",
    "dfx_max = dfx[dfx['gain'] == dfx['gain'].max()]\n",
    "idx_max = dfx_max.index[0]\n",
    "seuil_max = dfx_max.at[idx_max,'seuil']\n",
    "gain_max = dfx_max.at[idx_max,'gain']\n",
    "print (f'=> Le P&L maximum est de {gain_max} au seuil de {seuil_max}')\n",
    "dfx.plot(x='seuil' , y='gain')"
   ]
  },
  {
   "cell_type": "markdown",
   "metadata": {},
   "source": [
    "# AUC calculation with different methods"
   ]
  },
  {
   "cell_type": "markdown",
   "metadata": {},
   "source": [
    "## Methode 1 : code with loop"
   ]
  },
  {
   "cell_type": "code",
   "execution_count": 10,
   "metadata": {},
   "outputs": [
    {
     "name": "stdout",
     "output_type": "stream",
     "text": [
      "Methode 1 : AUC with loop\n",
      "2015\n",
      "27985\n",
      "48188599\n",
      "AUC methode 1 =  0.8545627110588755\n"
     ]
    }
   ],
   "source": [
    "print (\"Methode 1 : AUC with loop\")\n",
    "ln1=df_val['SeriousDlqin2yrs'].sum(axis =0)\n",
    "df1 = df_val['1 probability'] * df_val['SeriousDlqin2yrs']\n",
    "print(ln1)\n",
    "\n",
    "#\n",
    "#df0 = ~df_threshold['SeriousDlqin2yrs']\n",
    "df0 = df_val['SeriousDlqin2yrs'] + 1\n",
    "df0 = df0.apply(lambda x: 0 if x == 2 else 1)\n",
    "ln0 = df0.sum(axis =0)\n",
    "print(ln0)\n",
    "df0 = df_val['1 probability'] * df0\n",
    "\n",
    "\n",
    "nb1=0\n",
    "for r1 in df1:\n",
    "    if r1 > 0:\n",
    "        for r0 in df0:\n",
    "            if r1 > r0 and r0 !=0:\n",
    "                nb1 = nb1 + 1\n",
    "print(nb1)\n",
    "print(\"AUC methode 1 = \", nb1/(ln1*ln0))"
   ]
  },
  {
   "cell_type": "markdown",
   "metadata": {},
   "source": [
    "## Methode 2 : code without loop"
   ]
  },
  {
   "cell_type": "code",
   "execution_count": 18,
   "metadata": {
    "scrolled": true
   },
   "outputs": [
    {
     "name": "stdout",
     "output_type": "stream",
     "text": [
      "Methode 2 : AUC without loop\n",
      "AUC methode 1 =  0.8546044030145536\n"
     ]
    }
   ],
   "source": [
    "print(\"Methode 2 : AUC without loop\") \n",
    "is_positive = (df_val['SeriousDlqin2yrs'] == 1)\n",
    "\n",
    "df_threshold=pd.DataFrame(index=df_val['1 probability'])\n",
    "df_threshold['positive'] = is_positive.values\n",
    "df_threshold.sort_index(inplace=True, ascending=False)\n",
    "\n",
    "df_threshold['positive_sum'] =  df_threshold['positive'].cumsum()\n",
    "auc=df_threshold.loc[~df_threshold['positive']]['positive_sum'].sum()/(2015*27985)\n",
    "print ('AUC methode 1 = ', auc)"
   ]
  },
  {
   "cell_type": "markdown",
   "metadata": {},
   "source": [
    "## Methode 3 : AUC using ROC Curve"
   ]
  },
  {
   "cell_type": "markdown",
   "metadata": {},
   "source": [
    "ROC means : Receiver Operating Characteristic"
   ]
  },
  {
   "cell_type": "code",
   "execution_count": 44,
   "metadata": {},
   "outputs": [
    {
     "name": "stdout",
     "output_type": "stream",
     "text": [
      "**** ROC Curve  ****\n"
     ]
    },
    {
     "data": {
      "text/plain": [
       "<matplotlib.axes._subplots.AxesSubplot at 0x7fe7301e2c50>"
      ]
     },
     "execution_count": 44,
     "metadata": {},
     "output_type": "execute_result"
    },
    {
     "data": {
      "image/png": "[encoded data removed]",
      "text/plain": [
       "<Figure size 432x288 with 1 Axes>"
      ]
     },
     "metadata": {
      "needs_background": "light"
     },
     "output_type": "display_data"
    }
   ],
   "source": [
    "print (\"Methode 3 : AUC using ROC Curve\") \n",
    "print ( \"1/ ROC Curve\")\n",
    "df_roc = pd.DataFrame({'seuil': [0], 'TPR' : [0], 'FPR': [0]})\n",
    "#Append methode\n",
    "for i in range (1,int(10*p/10)):\n",
    "    roc = calcul_gain(i/p,pl0_0,pl0_1,pl1_0,pl1_1,5)\n",
    "    df_roc = df_roc.append(pd.DataFrame({'seuil': [i/p], \n",
    "                                'TPR' : [roc[0]], \n",
    "                                'FPR': [roc[1]]}), \n",
    "                                 ignore_index=True)\n",
    "df_roc.plot(x='FPR' , y='TPR')\n"
   ]
  },
  {
   "cell_type": "code",
   "execution_count": 10,
   "metadata": {},
   "outputs": [
    {
     "data": {
      "text/html": [
       "<div>\n",
       "<style scoped>\n",
       "    .dataframe tbody tr th:only-of-type {\n",
       "        vertical-align: middle;\n",
       "    }\n",
       "\n",
       "    .dataframe tbody tr th {\n",
       "        vertical-align: top;\n",
       "    }\n",
       "\n",
       "    .dataframe thead th {\n",
       "        text-align: right;\n",
       "    }\n",
       "</style>\n",
       "<table border=\"1\" class=\"dataframe\">\n",
       "  <thead>\n",
       "    <tr style=\"text-align: right;\">\n",
       "      <th></th>\n",
       "      <th>Unnamed: 0</th>\n",
       "      <th>seuil</th>\n",
       "      <th>TPR</th>\n",
       "      <th>FNR</th>\n",
       "      <th>TNR</th>\n",
       "      <th>TP</th>\n",
       "      <th>FP</th>\n",
       "      <th>FN</th>\n",
       "      <th>TN</th>\n",
       "    </tr>\n",
       "  </thead>\n",
       "  <tbody>\n",
       "    <tr>\n",
       "      <th>0</th>\n",
       "      <td>0</td>\n",
       "      <td>0.01</td>\n",
       "      <td>0.993160</td>\n",
       "      <td>0.910743</td>\n",
       "      <td>0.089257</td>\n",
       "      <td>7986</td>\n",
       "      <td>55</td>\n",
       "      <td>19999</td>\n",
       "      <td>1960</td>\n",
       "    </tr>\n",
       "    <tr>\n",
       "      <th>1</th>\n",
       "      <td>1</td>\n",
       "      <td>0.02</td>\n",
       "      <td>0.988855</td>\n",
       "      <td>0.881424</td>\n",
       "      <td>0.118576</td>\n",
       "      <td>14196</td>\n",
       "      <td>160</td>\n",
       "      <td>13789</td>\n",
       "      <td>1855</td>\n",
       "    </tr>\n",
       "    <tr>\n",
       "      <th>2</th>\n",
       "      <td>2</td>\n",
       "      <td>0.03</td>\n",
       "      <td>0.986269</td>\n",
       "      <td>0.861866</td>\n",
       "      <td>0.138134</td>\n",
       "      <td>16879</td>\n",
       "      <td>235</td>\n",
       "      <td>11106</td>\n",
       "      <td>1780</td>\n",
       "    </tr>\n",
       "    <tr>\n",
       "      <th>3</th>\n",
       "      <td>3</td>\n",
       "      <td>0.04</td>\n",
       "      <td>0.984675</td>\n",
       "      <td>0.840000</td>\n",
       "      <td>0.160000</td>\n",
       "      <td>18955</td>\n",
       "      <td>295</td>\n",
       "      <td>9030</td>\n",
       "      <td>1720</td>\n",
       "    </tr>\n",
       "    <tr>\n",
       "      <th>4</th>\n",
       "      <td>4</td>\n",
       "      <td>0.05</td>\n",
       "      <td>0.982832</td>\n",
       "      <td>0.819880</td>\n",
       "      <td>0.180120</td>\n",
       "      <td>20438</td>\n",
       "      <td>357</td>\n",
       "      <td>7547</td>\n",
       "      <td>1658</td>\n",
       "    </tr>\n",
       "  </tbody>\n",
       "</table>\n",
       "</div>"
      ],
      "text/plain": [
       "   Unnamed: 0  seuil       TPR       FNR       TNR     TP   FP     FN    TN\n",
       "0           0   0.01  0.993160  0.910743  0.089257   7986   55  19999  1960\n",
       "1           1   0.02  0.988855  0.881424  0.118576  14196  160  13789  1855\n",
       "2           2   0.03  0.986269  0.861866  0.138134  16879  235  11106  1780\n",
       "3           3   0.04  0.984675  0.840000  0.160000  18955  295   9030  1720\n",
       "4           4   0.05  0.982832  0.819880  0.180120  20438  357   7547  1658"
      ]
     },
     "execution_count": 10,
     "metadata": {},
     "output_type": "execute_result"
    }
   ],
   "source": [
    "df_roc_csv = read_csv('roc.csv')\n",
    "df_roc_csv.head(5)\n",
    "#x=df_roc_csv['FPR']\n",
    "#y=df_roc_csv['TPR']\n",
    "\n",
    "#plt.plot(x,y)"
   ]
  },
  {
   "cell_type": "code",
   "execution_count": 13,
   "metadata": {},
   "outputs": [],
   "source": [
    "def new_col(df,col,n_col):\n",
    "    d = df[col] \n",
    "    d = pd.DataFrame (d)\n",
    "    my_cols = list(d.columns)\n",
    "    my_cols[0] = n_col \n",
    "    d.columns = my_cols\n",
    "    d1 = d\n",
    "    d2 = d1.drop([0], axis = 0)\n",
    "    d3 = d2.reset_index()\n",
    "    d4 = d3.drop(['index'], axis = 1)\n",
    "    d5 = pd.concat ([df,d4], axis =1, ignore_index = False)\n",
    "    n_df = d5.fillna(1)\n",
    "    return n_df\n",
    "    "
   ]
  },
  {
   "cell_type": "code",
   "execution_count": 45,
   "metadata": {},
   "outputs": [
    {
     "name": "stdout",
     "output_type": "stream",
     "text": [
      "AUC calculation from ROC curve\n",
      "   seuil       TPR       FPR\n",
      "0  0.000  0.000000  0.000000\n",
      "1  0.001  0.000071  0.000000\n",
      "2  0.002  0.004788  0.000000\n",
      "3  0.003  0.023441  0.000496\n",
      "4  0.004  0.054708  0.002481\n",
      "   seuil       TPR       FPR      TPR1      FPR1\n",
      "0  0.000  0.000000  0.000000  0.000071  0.000000\n",
      "1  0.001  0.000071  0.000000  0.004788  0.000000\n",
      "2  0.002  0.004788  0.000000  0.023441  0.000496\n",
      "3  0.003  0.023441  0.000496  0.054708  0.002481\n",
      "4  0.004  0.054708  0.002481  0.095087  0.007940\n",
      "   seuil       TPR       FPR      TPR1      FPR1       AUC\n",
      "0  0.000  0.000000  0.000000  0.000071  0.000000  0.000000\n",
      "1  0.001  0.000071  0.000000  0.004788  0.000000  0.000000\n",
      "2  0.002  0.004788  0.000000  0.023441  0.000496  0.000007\n",
      "3  0.003  0.023441  0.000496  0.054708  0.002481  0.000078\n",
      "4  0.004  0.054708  0.002481  0.095087  0.007940  0.000409\n",
      "AUC =  0.8546922824217689\n"
     ]
    }
   ],
   "source": [
    "print ('2/ AUC calculation which is the area ROC')\n",
    "print (df_roc.head(5))\n",
    "df_roc1 = new_col(df_roc,'TPR','TPR1')\n",
    "df_roc2 = new_col(df_roc1,'FPR','FPR1')\n",
    "print (df_roc2.head(5))\n",
    "\n",
    "df_roc2 ['AUC'] = ((df_roc2['TPR']+df_roc2['TPR1'])/2) * (df_roc2['FPR1']-df_roc2['FPR'])\n",
    "print (df_roc2.head(5))\n",
    "\n",
    "auc = df_roc2 ['AUC'].sum (axis = 0)\n",
    "print (\"AUC from ROC curve= \", auc)\n"
   ]
  },
  {
   "cell_type": "markdown",
   "metadata": {},
   "source": [
    "## Performance of AUC calculated from ROC, changing precision"
   ]
  },
  {
   "cell_type": "code",
   "execution_count": 14,
   "metadata": {},
   "outputs": [
    {
     "name": "stdout",
     "output_type": "stream",
     "text": [
      "AUC calculation from ROC : simulation considering precision\n",
      "   Precision       AUC\n",
      "0          0  0.000000\n",
      "1         10  0.790353\n",
      "2         50  0.848304\n",
      "3        100  0.853403\n",
      "4       1000  0.854692\n"
     ]
    }
   ],
   "source": [
    "print('AUC calculation from ROC : performance when increasing precision')\n",
    "\n",
    "precision = [10,50,100,1000]\n",
    "df_simauc = pd.DataFrame({'Precision': [0], \n",
    "                                    'AUC' : [0]}) \n",
    "for p in precision:\n",
    "    df_roc = pd.DataFrame({'seuil': [0], 'TPR' : [0], 'FPR': [0]})\n",
    "    for i in range (1,int(10*p/10)):\n",
    "        roc = calcul_gain(i/p,pl0_0,pl0_1,pl1_0,pl1_1,5)\n",
    "        df_roc = df_roc.append(pd.DataFrame({'seuil': [i/p], \n",
    "                                'TPR' : [roc[0]], \n",
    "                                             \n",
    "                                'FPR': [roc[1]]}), \n",
    "                                 ignore_index=True)\n",
    "    df_roc1 = new_col(df_roc,'TPR','TPR1')\n",
    "    df_roc2 = new_col(df_roc1,'FPR','FPR1')\n",
    "    df_roc2 ['AUC'] = ((df_roc2['TPR']+df_roc2['TPR1'])/2) * (df_roc2['FPR1']-df_roc2['FPR'])\n",
    "    auc = df_roc2 ['AUC'].sum (axis = 0)\n",
    "    df_simauc = df_simauc.append(pd.DataFrame({'Precision': [p], \n",
    "                                'AUC' : [auc]}), \n",
    "                                 ignore_index=True)\n",
    "\n",
    "print(df_simauc.head(5))"
   ]
  },
  {
   "cell_type": "code",
   "execution_count": 16,
   "metadata": {},
   "outputs": [
    {
     "data": {
      "text/plain": [
       "<matplotlib.axes._subplots.AxesSubplot at 0x7f146f308b38>"
      ]
     },
     "execution_count": 16,
     "metadata": {},
     "output_type": "execute_result"
    },
    {
     "data": {
      "image/png": "[encoded data removed]",
      "text/plain": [
       "<Figure size 432x288 with 1 Axes>"
      ]
     },
     "metadata": {
      "needs_background": "light"
     },
     "output_type": "display_data"
    }
   ],
   "source": [
    "df_simauc1 = df_simauc.drop ([0], axis =0)\n",
    "df_simauc1.plot(x='Precision' , y='AUC')"
   ]
  },
  {
   "cell_type": "markdown",
   "metadata": {},
   "source": [
    "## Methode 4 : AUC sklearn"
   ]
  },
  {
   "cell_type": "code",
   "execution_count": 6,
   "metadata": {},
   "outputs": [
    {
     "name": "stdout",
     "output_type": "stream",
     "text": [
      "AUC from Sklear =  0.8546041902100159\n"
     ]
    }
   ],
   "source": [
    "from sklearn.metrics import roc_auc_score \n",
    "\n",
    "actual = df_val['SeriousDlqin2yrs']\n",
    "proba1 = df_val['1 probability']\n",
    "auc_sklearn = roc_auc_score(actual, proba1)\n",
    "\n",
    "print (\"AUC from Sklear = \", auc_sklearn)"
   ]
  },
  {
   "cell_type": "markdown",
   "metadata": {},
   "source": [
    "## Comparison of AUC metrics to AUC from BigML"
   ]
  },
  {
   "cell_type": "code",
   "execution_count": 8,
   "metadata": {},
   "outputs": [
    {
     "data": {
      "text/plain": [
       "<matplotlib.axes._subplots.AxesSubplot at 0x7fa64921b6a0>"
      ]
     },
     "execution_count": 8,
     "metadata": {},
     "output_type": "execute_result"
    },
    {
     "data": {
      "image/png": "[encoded data removed]",
      "text/plain": [
       "<Figure size 432x288 with 1 Axes>"
      ]
     },
     "metadata": {
      "needs_background": "light"
     },
     "output_type": "display_data"
    }
   ],
   "source": [
    "auc_bigml = 0.8546\n",
    "\n",
    "auc_wtl = 0.8545627110588755\n",
    "auc_xtoutl = 0.8546044030145536\n",
    "auc_roc1000 =  0.854692\n",
    "auc_sklearn = 0.8546041902100159\n",
    "\n",
    "\n",
    "auc_wtl = auc_wtl - auc_bigml \n",
    "auc_xtoutl = auc_xtoutl - auc_bigml\n",
    "auc_roc1000 = auc_roc1000 - auc_bigml\n",
    "auc_sklearn = auc_sklearn - auc_bigml\n",
    "\n",
    "df_auc_comp = pd.DataFrame({'AUC WtL': [auc_wtl], 'AUC WtoutL' : [auc_xtoutl], 'AUC Sklearn': [auc_sklearn],'AUC ROC (1000)': [auc_roc1000]  })\n",
    "df_auc_comp.plot(kind = 'bar', title = 'AUCs compared to BigML AUC')\n"
   ]
  },
  {
   "cell_type": "code",
   "execution_count": null,
   "metadata": {},
   "outputs": [],
   "source": []
  }
 ],
 "metadata": {
  "kernelspec": {
   "display_name": "Python 3",
   "language": "python",
   "name": "python3"
  },
  "language_info": {
   "codemirror_mode": {
    "name": "ipython",
    "version": 3
   },
   "file_extension": ".py",
   "mimetype": "text/x-python",
   "name": "python",
   "nbconvert_exporter": "python",
   "pygments_lexer": "ipython3",
   "version": "3.7.3"
  }
 },
 "nbformat": 4,
 "nbformat_minor": 2
}
