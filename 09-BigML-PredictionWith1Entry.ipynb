{
 "cells": [
  {
   "cell_type": "markdown",
   "metadata": {},
   "source": [
    "# PREDICTION by BigML from 1 entry"
   ]
  },
  {
   "cell_type": "raw",
   "metadata": {},
   "source": [
    "@everyone Exercice individuel: création de prédiction sur un seul input.\n",
    "\n",
    "* L’application utilisée par le banquier nous envoie les informations suivantes:\n",
    "\n",
    "{\n",
    "    \"RevolvingUtilizationOfUnsecuredLines\": 0.01703559,\n",
    "    \"NumberOfDependents\": 1,\n",
    "    \"DebtRatio\": 0,\n",
    "    \"age\": 42,\n",
    "    \"NumberOfOpenCreditLinesAndLoans\": 6,\n",
    "    \"NumberRealEstateLoansOrLines\": 1,\n",
    "    \"NumberOfTime30-59DaysPastDueNotWorse\": 1,\n",
    "    \"NumberOfTime60-89DaysPastDueNotWorse\": 0,\n",
    "    \"NumberOfTimes90DaysLate\": 0\n",
    "}\n",
    "\n",
    "* Créez un nouveau notebook, dans lequel vous calculerez une probabilité de défaut de remboursement.\n",
    "* Committez, et envoyez moi le lien pour que je retrouve facilement\n",
    "* Dites “exo fini” ici-même, quand vous avez fini."
   ]
  },
  {
   "cell_type": "code",
   "execution_count": 3,
   "metadata": {},
   "outputs": [],
   "source": [
    "import bigml.api\n",
    "from bigml.api import BigML\n",
    "api = BigML()\n",
    "\n",
    "\n",
    "import pandas as pd\n",
    "from pandas import read_csv\n"
   ]
  },
  {
   "cell_type": "code",
   "execution_count": null,
   "metadata": {},
   "outputs": [],
   "source": [
    "Structure of dataset"
   ]
  },
  {
   "cell_type": "code",
   "execution_count": 4,
   "metadata": {},
   "outputs": [
    {
     "data": {
      "text/plain": [
       "Unnamed: 0                                int64\n",
       "RevolvingUtilizationOfUnsecuredLines    float64\n",
       "age                                       int64\n",
       "NumberOfTime30-59DaysPastDueNotWorse      int64\n",
       "DebtRatio                               float64\n",
       "MonthlyIncome                           float64\n",
       "NumberOfOpenCreditLinesAndLoans           int64\n",
       "NumberOfTimes90DaysLate                   int64\n",
       "NumberRealEstateLoansOrLines              int64\n",
       "NumberOfTime60-89DaysPastDueNotWorse      int64\n",
       "NumberOfDependents                      float64\n",
       "NumberOfTimes90DaysLate_TOTAL             int64\n",
       "IsOld                                      bool\n",
       "SeriousDlqin2yrs                          int64\n",
       "dtype: object"
      ]
     },
     "execution_count": 4,
     "metadata": {},
     "output_type": "execute_result"
    }
   ],
   "source": [
    "df = read_csv('Train_Full_New1.csv', index_col = False)\n",
    "df.dtypes"
   ]
  },
  {
   "cell_type": "markdown",
   "metadata": {},
   "source": [
    "## Run model if it doesn not exist"
   ]
  },
  {
   "cell_type": "code",
   "execution_count": 34,
   "metadata": {},
   "outputs": [
    {
     "data": {
      "text/plain": [
       "True"
      ]
     },
     "execution_count": 34,
     "metadata": {},
     "output_type": "execute_result"
    }
   ],
   "source": [
    "source = api.create_source('Train_Full_New1.csv')\n",
    "api.ok(source)"
   ]
  },
  {
   "cell_type": "code",
   "execution_count": 35,
   "metadata": {},
   "outputs": [
    {
     "data": {
      "text/plain": [
       "True"
      ]
     },
     "execution_count": 35,
     "metadata": {},
     "output_type": "execute_result"
    }
   ],
   "source": [
    "dataset = api.create_dataset(source)\n",
    "api.ok(dataset) "
   ]
  },
  {
   "cell_type": "code",
   "execution_count": 36,
   "metadata": {},
   "outputs": [
    {
     "data": {
      "text/plain": [
       "True"
      ]
     },
     "execution_count": 36,
     "metadata": {},
     "output_type": "execute_result"
    }
   ],
   "source": [
    "train_dataset = api.create_dataset(dataset, {\"name\": \"train\", \"sample_rate\": 0.8, \"seed\": \"my seed\"})\n",
    "api.ok(train_dataset)\n",
    "validation_dataset = api.create_dataset(dataset, {\"name\": \"validation\", \"sample_rate\": 0.8, \"seed\": \"my seed\", \"out_of_bag\": True})\n",
    "api.ok(validation_dataset)"
   ]
  },
  {
   "cell_type": "code",
   "execution_count": 37,
   "metadata": {},
   "outputs": [
    {
     "data": {
      "text/plain": [
       "True"
      ]
     },
     "execution_count": 37,
     "metadata": {},
     "output_type": "execute_result"
    }
   ],
   "source": [
    "ensemble = api.create_ensemble(train_dataset)\n",
    "api.ok(ensemble)"
   ]
  },
  {
   "cell_type": "markdown",
   "metadata": {},
   "source": [
    "## If the model exists in BigML.\n",
    "\n"
   ]
  },
  {
   "cell_type": "markdown",
   "metadata": {},
   "source": [
    "So, run the ID"
   ]
  },
  {
   "cell_type": "code",
   "execution_count": 8,
   "metadata": {},
   "outputs": [],
   "source": [
    "ensemble_get = api.get_ensemble('ensemble/5dc4406f7811dd7f2d016c75')"
   ]
  },
  {
   "cell_type": "markdown",
   "metadata": {},
   "source": [
    "## Prepare the new imput in good format of dataset"
   ]
  },
  {
   "cell_type": "code",
   "execution_count": 10,
   "metadata": {},
   "outputs": [],
   "source": [
    "input_data = { \"RevolvingUtilizationOfUnsecuredLines\": 0.01703559, \"NumberOfDependents\": 1, \"DebtRatio\": 0, \"age\": 42, \"NumberOfOpenCreditLinesAndLoans\": 6, \"NumberRealEstateLoansOrLines\": 1, \"NumberOfTime30-59DaysPastDueNotWorse\": 1, \"NumberOfTime60-89DaysPastDueNotWorse\": 0, \"NumberOfTimes90DaysLate\": 0 }\n"
   ]
  },
  {
   "cell_type": "code",
   "execution_count": 11,
   "metadata": {},
   "outputs": [
    {
     "data": {
      "text/plain": [
       "DebtRatio                                 int64\n",
       "NumberOfDependents                        int64\n",
       "NumberOfOpenCreditLinesAndLoans           int64\n",
       "NumberOfTime30-59DaysPastDueNotWorse      int64\n",
       "NumberOfTime60-89DaysPastDueNotWorse      int64\n",
       "NumberOfTimes90DaysLate                   int64\n",
       "NumberRealEstateLoansOrLines              int64\n",
       "RevolvingUtilizationOfUnsecuredLines    float64\n",
       "age                                       int64\n",
       "dtype: object"
      ]
     },
     "execution_count": 11,
     "metadata": {},
     "output_type": "execute_result"
    }
   ],
   "source": [
    "df_imput = pd.DataFrame([input_data])\n",
    "df_imput.dtypes"
   ]
  },
  {
   "cell_type": "markdown",
   "metadata": {},
   "source": [
    "Prepare the new imput in good format of dataset"
   ]
  },
  {
   "cell_type": "code",
   "execution_count": 8,
   "metadata": {},
   "outputs": [
    {
     "data": {
      "text/plain": [
       "Unnamed: 0                                int64\n",
       "RevolvingUtilizationOfUnsecuredLines    float64\n",
       "age                                       int64\n",
       "NumberOfTime30-59DaysPastDueNotWorse      int64\n",
       "DebtRatio                               float64\n",
       "MonthlyIncome                           float64\n",
       "NumberOfOpenCreditLinesAndLoans           int64\n",
       "NumberOfTimes90DaysLate                   int64\n",
       "NumberRealEstateLoansOrLines              int64\n",
       "NumberOfTime60-89DaysPastDueNotWorse      int64\n",
       "NumberOfDependents                      float64\n",
       "NumberOfTimes90DaysLate_TOTAL             int64\n",
       "IsOld                                      bool\n",
       "SeriousDlqin2yrs                          int64\n",
       "dtype: object"
      ]
     },
     "execution_count": 8,
     "metadata": {},
     "output_type": "execute_result"
    }
   ],
   "source": [
    "df_dataset_empty = df[0:0]\n",
    "df_dataset_empty.dtypes\n",
    "#df_dataset_empty"
   ]
  },
  {
   "cell_type": "code",
   "execution_count": 13,
   "metadata": {},
   "outputs": [
    {
     "data": {
      "text/plain": [
       "DebtRatio                               float64\n",
       "IsOld                                    object\n",
       "MonthlyIncome                           float64\n",
       "NumberOfDependents                      float64\n",
       "NumberOfOpenCreditLinesAndLoans           int64\n",
       "NumberOfTime30-59DaysPastDueNotWorse      int64\n",
       "NumberOfTime60-89DaysPastDueNotWorse      int64\n",
       "NumberOfTimes90DaysLate                   int64\n",
       "NumberOfTimes90DaysLate_TOTAL           float64\n",
       "NumberRealEstateLoansOrLines              int64\n",
       "RevolvingUtilizationOfUnsecuredLines    float64\n",
       "SeriousDlqin2yrs                        float64\n",
       "Unnamed: 0                              float64\n",
       "age                                       int64\n",
       "dtype: object"
      ]
     },
     "execution_count": 13,
     "metadata": {},
     "output_type": "execute_result"
    }
   ],
   "source": [
    "df_imput_new = df_dataset_empty.append(df_imput)\n",
    "df_imput_new\n",
    "df_imput_new.dtypes"
   ]
  },
  {
   "cell_type": "markdown",
   "metadata": {},
   "source": [
    "## Prediction"
   ]
  },
  {
   "cell_type": "code",
   "execution_count": 9,
   "metadata": {},
   "outputs": [],
   "source": [
    "# creating a single prediction\n",
    "prediction = api.create_prediction(ensemble_get, input_data)"
   ]
  },
  {
   "cell_type": "code",
   "execution_count": 40,
   "metadata": {},
   "outputs": [
    {
     "name": "stdout",
     "output_type": "stream",
     "text": [
      "SeriousDlqin2yrs for {'DebtRatio': 0, 'NumberOfDependents': 1, 'NumberOfOpenCreditLinesAndLoans': 6, 'NumberOfTime30-59DaysPastDueNotWorse': 1, 'NumberOfTime60-89DaysPastDueNotWorse': 0, 'NumberOfTimes90DaysLate': 0, 'NumberRealEstateLoansOrLines': 1, 'RevolvingUtilizationOfUnsecuredLines': 0.01703559, 'age': 42} is 0\n"
     ]
    }
   ],
   "source": [
    "api.pprint(prediction)"
   ]
  },
  {
   "cell_type": "code",
   "execution_count": 41,
   "metadata": {
    "scrolled": true
   },
   "outputs": [
    {
     "name": "stdout",
     "output_type": "stream",
     "text": [
      "{'code': 201, 'resource': 'prediction/5dc44091e6ba2e52bc036ba1', 'location': 'http://bigml.io/andromeda/prediction/5dc44091e6ba2e52bc036ba1', 'object': {'boosted_ensemble': False, 'category': 0, 'code': 201, 'combiner': None, 'confidence': 0.93201, 'confidence_bounds': {}, 'confidences': [['0', 0.93201], ['1', 0.06517]], 'configuration': None, 'configuration_status': False, 'created': '2019-11-07T16:04:33.490065', 'creator': 'aroraza', 'credits': 0.01, 'dataset': 'dataset/5dc43f73e4768473b6000b7d', 'dataset_status': True, 'description': '', 'ensemble': 'ensemble/5dc4406f7811dd7f2d016c75', 'error_predictions': 0, 'explanation': None, 'fields': {'000001': {'column_number': 1, 'datatype': 'double', 'name': 'RevolvingUtilizationOfUnsecuredLines', 'optype': 'numeric', 'order': 1, 'preferred': True}, '000002': {'column_number': 2, 'datatype': 'int8', 'name': 'age', 'optype': 'numeric', 'order': 2, 'preferred': True}, '000003': {'column_number': 3, 'datatype': 'int8', 'name': 'NumberOfTime30-59DaysPastDueNotWorse', 'optype': 'numeric', 'order': 3, 'preferred': True}, '000004': {'column_number': 4, 'datatype': 'double', 'name': 'DebtRatio', 'optype': 'numeric', 'order': 4, 'preferred': True}, '000006': {'column_number': 6, 'datatype': 'int8', 'name': 'NumberOfOpenCreditLinesAndLoans', 'optype': 'numeric', 'order': 6, 'preferred': True}, '000007': {'column_number': 7, 'datatype': 'int8', 'name': 'NumberOfTimes90DaysLate', 'optype': 'numeric', 'order': 7, 'preferred': True}, '000008': {'column_number': 8, 'datatype': 'int8', 'name': 'NumberRealEstateLoansOrLines', 'optype': 'numeric', 'order': 8, 'preferred': True}, '000009': {'column_number': 9, 'datatype': 'int8', 'name': 'NumberOfTime60-89DaysPastDueNotWorse', 'optype': 'numeric', 'order': 9, 'preferred': True}, '00000a': {'column_number': 10, 'datatype': 'int8', 'name': 'NumberOfDependents', 'optype': 'numeric', 'order': 10, 'preferred': True}, '00000b': {'column_number': 11, 'datatype': 'int16', 'name': 'NumberOfTimes90DaysLate_TOTAL', 'optype': 'numeric', 'order': 11, 'preferred': True}, '00000d': {'column_number': 13, 'datatype': 'string', 'name': 'SeriousDlqin2yrs', 'optype': 'categorical', 'order': 13, 'preferred': True, 'term_analysis': {'enabled': True}}}, 'finished_predictions': 10, 'importance': None, 'input_data': {'DebtRatio': 0, 'NumberOfDependents': 1, 'NumberOfOpenCreditLinesAndLoans': 6, 'NumberOfTime30-59DaysPastDueNotWorse': 1, 'NumberOfTime60-89DaysPastDueNotWorse': 0, 'NumberOfTimes90DaysLate': 0, 'NumberRealEstateLoansOrLines': 1, 'RevolvingUtilizationOfUnsecuredLines': 0.01703559, 'age': 42}, 'locale': 'en_US', 'missing_strategy': 0, 'model': 'ensemble/5dc4406f7811dd7f2d016c75', 'model_status': True, 'model_type': 1, 'models': ['model/5dc44083c5f953057f02b9ab', 'model/5dc44084c5f953057f02b9ad', 'model/5dc44084c5f953057f02b9af', 'model/5dc44084c5f953057f02b9b1', 'model/5dc44084c5f953057f02b9b3', 'model/5dc44084c5f953057f02b9b5', 'model/5dc44085c5f953057f02b9b7', 'model/5dc44085c5f953057f02b9b9', 'model/5dc44085c5f953057f02b9bb', 'model/5dc44085c5f953057f02b9bd'], 'name': 'train', 'name_options': 'operating kind=probability, 9 inputs', 'number_of_models': 10, 'objective_field': '00000d', 'objective_field_name': 'SeriousDlqin2yrs', 'objective_field_type': 'categorical', 'objective_fields': ['00000d'], 'operating_kind': 'probability', 'output': '0', 'prediction': {'00000d': '0'}, 'predictions': [{'confidence': 0.93045, 'confidences': [['0', 0.93045], ['1', 0.0667]], 'count': 120000, 'distribution': [['0', 111827], ['1', 8173]], 'importance': {}, 'node_id': 0, 'order': 0, 'prediction': '0', 'probabilities': [['0', 0.93189], ['1', 0.06811]], 'probability': 0.93189, 'total_count': 120000}, {'confidence': 0.93228, 'confidences': [['0', 0.93228], ['1', 0.06491]], 'count': 120000, 'distribution': [['0', 112044], ['1', 7956]], 'importance': {}, 'node_id': 0, 'order': 1, 'prediction': '0', 'probabilities': [['0', 0.9337], ['1', 0.0663]], 'probability': 0.9337, 'total_count': 120000}, {'confidence': 0.93141, 'confidences': [['0', 0.93141], ['1', 0.06576]], 'count': 120000, 'distribution': [['0', 111941], ['1', 8059]], 'importance': {}, 'node_id': 0, 'order': 2, 'prediction': '0', 'probabilities': [['0', 0.93284], ['1', 0.06716]], 'probability': 0.93284, 'total_count': 120000}, {'confidence': 0.93235, 'confidences': [['0', 0.93235], ['1', 0.06484]], 'count': 120000, 'distribution': [['0', 112052], ['1', 7948]], 'importance': {}, 'node_id': 0, 'order': 3, 'prediction': '0', 'probabilities': [['0', 0.93377], ['1', 0.06623]], 'probability': 0.93377, 'total_count': 120000}, {'confidence': 0.93206, 'confidences': [['0', 0.93206], ['1', 0.06512]], 'count': 120000, 'distribution': [['0', 112018], ['1', 7982]], 'importance': {}, 'node_id': 0, 'order': 4, 'prediction': '0', 'probabilities': [['0', 0.93348], ['1', 0.06652]], 'probability': 0.93348, 'total_count': 120000}, {'confidence': 0.93286, 'confidences': [['0', 0.93286], ['1', 0.06434]], 'count': 120000, 'distribution': [['0', 112113], ['1', 7887]], 'importance': {}, 'node_id': 0, 'order': 5, 'prediction': '0', 'probabilities': [['0', 0.93428], ['1', 0.06573]], 'probability': 0.93428, 'total_count': 120000}, {'confidence': 0.93194, 'confidences': [['0', 0.93194], ['1', 0.06524]], 'count': 120000, 'distribution': [['0', 112004], ['1', 7996]], 'importance': {}, 'node_id': 0, 'order': 6, 'prediction': '0', 'probabilities': [['0', 0.93337], ['1', 0.06663]], 'probability': 0.93337, 'total_count': 120000}, {'confidence': 0.93267, 'confidences': [['0', 0.93267], ['1', 0.06452]], 'count': 120000, 'distribution': [['0', 112091], ['1', 7909]], 'importance': {}, 'node_id': 0, 'order': 7, 'prediction': '0', 'probabilities': [['0', 0.93409], ['1', 0.06591]], 'probability': 0.93409, 'total_count': 120000}, {'confidence': 0.93344, 'confidences': [['0', 0.93344], ['1', 0.06377]], 'count': 120000, 'distribution': [['0', 112182], ['1', 7818]], 'importance': {}, 'node_id': 0, 'order': 8, 'prediction': '0', 'probabilities': [['0', 0.93485], ['1', 0.06515]], 'probability': 0.93485, 'total_count': 120000}, {'confidence': 0.93067, 'confidences': [['0', 0.93067], ['1', 0.06648]], 'count': 120000, 'distribution': [['0', 111853], ['1', 8147]], 'importance': {}, 'node_id': 0, 'order': 9, 'prediction': '0', 'probabilities': [['0', 0.93211], ['1', 0.06789]], 'probability': 0.93211, 'total_count': 120000}], 'private': True, 'probabilities': [['0', 0.93344], ['1', 0.06656]], 'probability': 0.93344, 'project': None, 'query_string': '', 'resource': 'prediction/5dc44091e6ba2e52bc036ba1', 'shared': False, 'source': 'source/5dc43f055299631c82017033', 'source_status': True, 'status': {'code': 5, 'elapsed': 1366.0, 'message': 'The prediction has been created', 'progress': 1.0}, 'subscription': False, 'tags': [], 'task': 'classification', 'type': 0, 'updated': '2019-11-07T16:04:33.490092', 'vote_count': 1.0, 'vote_counts': [['0', 1], ['1', 0]]}, 'error': None}\n"
     ]
    }
   ],
   "source": [
    "print(prediction)"
   ]
  },
  {
   "cell_type": "code",
   "execution_count": 10,
   "metadata": {},
   "outputs": [
    {
     "name": "stdout",
     "output_type": "stream",
     "text": [
      "[['0', 0.93344], ['1', 0.06656]]\n"
     ]
    }
   ],
   "source": [
    "api.pprint(prediction['object']['probabilities'])\n"
   ]
  },
  {
   "cell_type": "markdown",
   "metadata": {},
   "source": [
    "The default probability of this client is 6.65%"
   ]
  }
 ],
 "metadata": {
  "kernelspec": {
   "display_name": "Python 3",
   "language": "python",
   "name": "python3"
  },
  "language_info": {
   "codemirror_mode": {
    "name": "ipython",
    "version": 3
   },
   "file_extension": ".py",
   "mimetype": "text/x-python",
   "name": "python",
   "nbconvert_exporter": "python",
   "pygments_lexer": "ipython3",
   "version": "3.7.3"
  },
  "toc": {
   "base_numbering": 1,
   "nav_menu": {},
   "number_sections": true,
   "sideBar": true,
   "skip_h1_title": false,
   "title_cell": "Table of Contents",
   "title_sidebar": "Contents",
   "toc_cell": false,
   "toc_position": {},
   "toc_section_display": true,
   "toc_window_display": false
  }
 },
 "nbformat": 4,
 "nbformat_minor": 2
}
