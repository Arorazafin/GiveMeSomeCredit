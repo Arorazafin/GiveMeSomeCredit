{
 "cells": [
  {
   "cell_type": "markdown",
   "metadata": {},
   "source": [
    "# Confusion Matrix by Pandas"
   ]
  },
  {
   "cell_type": "code",
   "execution_count": 1,
   "metadata": {},
   "outputs": [],
   "source": [
    "import pandas as pd\n",
    "from pandas import read_csv\n",
    "import matplotlib.pyplot as plt"
   ]
  },
  {
   "cell_type": "code",
   "execution_count": 2,
   "metadata": {},
   "outputs": [],
   "source": [
    "df_val = read_csv('my_predictions_val.csv')"
   ]
  },
  {
   "cell_type": "code",
   "execution_count": 3,
   "metadata": {},
   "outputs": [],
   "source": [
    "#COST Matrix\n",
    "PL0_0 = 500    #TN\n",
    "PL1_0 = -2500  #FN\n",
    "PL0_1 = -500   #FP\n",
    "PL1_1 = 0      #TP\n",
    "\n",
    "#Precison\n",
    "P = 100"
   ]
  },
  {
   "cell_type": "code",
   "execution_count": 4,
   "metadata": {},
   "outputs": [],
   "source": [
    "def CalculError_seuil2 (row):\n",
    "    v = row['SeriousDlqin2yrs']\n",
    "    w = row['1 probability']\n",
    "    s1 = row['seuil']\n",
    "    if v == 0 :\n",
    "        if w < s1 :\n",
    "            return 'TN'\n",
    "        else :\n",
    "            return 'FP'\n",
    "    else :\n",
    "        if w < s1 :\n",
    "            return 'FN'\n",
    "        else :\n",
    "            return 'TP'"
   ]
  },
  {
   "cell_type": "code",
   "execution_count": 5,
   "metadata": {},
   "outputs": [],
   "source": [
    "def calcul_gain (s,PL0_0,PL0_1,PL1_0,PL1_1,option): \n",
    "    df_val['seuil'] = s\n",
    "    df_val['error']= df_val.apply (CalculError_seuil2, axis = 1)\n",
    "    resultat = df_val.groupby('error')['field1'].nunique()\n",
    "    df_matrixConfusion = pd.DataFrame({'Prediction 0' : [resultat[2],resultat[0]], 'Prediction 1':[resultat[1],resultat[3]]},index = ['Actual 0', 'Actual 1'] )\n",
    "    df_matrixCost = pd.DataFrame({'Prediction 0' : [PL0_0,PL1_0], 'Prediction 1':[PL0_1, PL1_1]},index = ['Actual 0', 'Actual 1'] )\n",
    "    total_gain = df_matrixCost * df_matrixConfusion\n",
    "    total_gain2 = total_gain.sum (axis = 1)\n",
    "    total_gain3 = total_gain2.sum (axis = 0)\n",
    "    \n",
    "    switcher={\n",
    "                1: resultat,\n",
    "                2: df_matrixConfusion,\n",
    "                3: df_matrixCost,\n",
    "                4: total_gain3\n",
    "            }\n",
    "    return switcher.get(option,\"Invalid option\")\n",
    "    "
   ]
  },
  {
   "cell_type": "code",
   "execution_count": 6,
   "metadata": {},
   "outputs": [
    {
     "name": "stdout",
     "output_type": "stream",
     "text": [
      "\n",
      "**** Pour un seuil = 0.5 ****\n",
      "error\n",
      "FN     1686\n",
      "FP      236\n",
      "TN    27749\n",
      "TP      329\n",
      "Name: field1, dtype: int64\n",
      "\n",
      "** Matrice de confusion\n",
      "          Prediction 0  Prediction 1\n",
      "Actual 0         27749           236\n",
      "Actual 1          1686           329\n",
      "\n",
      "** Matrice de cout\n",
      "          Prediction 0  Prediction 1\n",
      "Actual 0           500          -500\n",
      "Actual 1         -2500             0\n",
      "\n",
      " => Le P&L est de 9541500 au seuil de 0.5\n",
      "\n",
      "**** Simulation ****\n",
      "=> Le P&L maximum est de 9989500 au seuil de 0.29\n"
     ]
    },
    {
     "data": {
      "text/plain": [
       "<matplotlib.axes._subplots.AxesSubplot at 0x7fbf916f3f60>"
      ]
     },
     "execution_count": 6,
     "metadata": {},
     "output_type": "execute_result"
    },
    {
     "data": {
      "image/png": "[encoded data removed]",
      "text/plain": [
       "<Figure size 432x288 with 1 Axes>"
      ]
     },
     "metadata": {
      "needs_background": "light"
     },
     "output_type": "display_data"
    }
   ],
   "source": [
    "#df_val.info()\n",
    "\n",
    "res = calcul_gain (0.5,PL0_0,PL0_1,PL1_0,PL1_1,1)\n",
    "mtxcf = calcul_gain (0.5,PL0_0,PL0_1,PL1_0,PL1_1,2)\n",
    "mtxct = calcul_gain (0.5,PL0_0,PL0_1,PL1_0,PL1_1,3)\n",
    "pl05 = calcul_gain (0.5,PL0_0,PL0_1,PL1_0,PL1_1,4)\n",
    "\n",
    "print()\n",
    "print ('**** Pour un seuil = 0.5 ****')\n",
    "print (res)\n",
    "print()\n",
    "print ('** Matrice de confusion')\n",
    "print (mtxcf)\n",
    "print()\n",
    "print ('** Matrice de cout')\n",
    "print (mtxct)\n",
    "print()\n",
    "print (f' => Le P&L est de {pl05} au seuil de 0.5')\n",
    "\n",
    "print()\n",
    "print ('**** Simulation ****')\n",
    "\n",
    "dfx = pd.concat([pd.DataFrame({ 'seuil': [i/P],\n",
    "                                'gain' : [calcul_gain(i/P,PL0_0,PL0_1,PL1_0,PL1_1,4)]}) \n",
    "                                 for i in range (1,int(7*P/10))], ignore_index=True)\n",
    "\n",
    "dfx_max = dfx[dfx['gain'] == dfx['gain'].max()]\n",
    "idx_max = dfx_max.index[0]\n",
    "seuil_max = dfx_max.at[idx_max,'seuil']\n",
    "gain_max = dfx_max.at[idx_max,'gain']\n",
    "print (f'=> Le P&L maximum est de {gain_max} au seuil de {seuil_max}')\n",
    "dfx.plot(x='seuil' , y='gain')"
   ]
  }
 ],
 "metadata": {
  "kernelspec": {
   "display_name": "Python 3",
   "language": "python",
   "name": "python3"
  },
  "language_info": {
   "codemirror_mode": {
    "name": "ipython",
    "version": 3
   },
   "file_extension": ".py",
   "mimetype": "text/x-python",
   "name": "python",
   "nbconvert_exporter": "python",
   "pygments_lexer": "ipython3",
   "version": "3.7.3"
  }
 },
 "nbformat": 4,
 "nbformat_minor": 2
}
