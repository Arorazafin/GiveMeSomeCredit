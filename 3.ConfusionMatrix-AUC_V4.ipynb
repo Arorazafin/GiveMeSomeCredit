{
 "cells": [
  {
   "cell_type": "markdown",
   "metadata": {},
   "source": [
    "# Confusion Matrix by Pandas"
   ]
  },
  {
   "cell_type": "code",
   "execution_count": 67,
   "metadata": {},
   "outputs": [],
   "source": [
    "import pandas as pd\n",
    "from pandas import read_csv\n",
    "import matplotlib.pyplot as plt"
   ]
  },
  {
   "cell_type": "code",
   "execution_count": 72,
   "metadata": {},
   "outputs": [
    {
     "name": "stdout",
     "output_type": "stream",
     "text": [
      "1 probability\n",
      "<class 'pandas.core.frame.DataFrame'>\n",
      "RangeIndex: 30000 entries, 0 to 29999\n",
      "Data columns (total 17 columns):\n",
      "field1                                  30000 non-null int64\n",
      "RevolvingUtilizationOfUnsecuredLines    30000 non-null float64\n",
      "age                                     30000 non-null int64\n",
      "NumberOfTime30-59DaysPastDueNotWorse    30000 non-null int64\n",
      "DebtRatio                               30000 non-null float64\n",
      "MonthlyIncome                           23999 non-null float64\n",
      "NumberOfOpenCreditLinesAndLoans         30000 non-null int64\n",
      "NumberOfTimes90DaysLate                 30000 non-null int64\n",
      "NumberRealEstateLoansOrLines            30000 non-null int64\n",
      "NumberOfTime60-89DaysPastDueNotWorse    30000 non-null int64\n",
      "NumberOfDependents                      29192 non-null float64\n",
      "NumberOfTimes90DaysLate_TOTAL           30000 non-null int64\n",
      "IsOld                                   30000 non-null bool\n",
      "SeriousDlqin2yrs                        30000 non-null int64\n",
      "SeriousDlqin2yrs.1                      30000 non-null int64\n",
      "0 probability                           30000 non-null float64\n",
      "probability1                            30000 non-null float64\n",
      "dtypes: bool(1), float64(6), int64(10)\n",
      "memory usage: 3.7 MB\n"
     ]
    },
    {
     "data": {
      "text/html": [
       "<div>\n",
       "<style scoped>\n",
       "    .dataframe tbody tr th:only-of-type {\n",
       "        vertical-align: middle;\n",
       "    }\n",
       "\n",
       "    .dataframe tbody tr th {\n",
       "        vertical-align: top;\n",
       "    }\n",
       "\n",
       "    .dataframe thead th {\n",
       "        text-align: right;\n",
       "    }\n",
       "</style>\n",
       "<table border=\"1\" class=\"dataframe\">\n",
       "  <thead>\n",
       "    <tr style=\"text-align: right;\">\n",
       "      <th></th>\n",
       "      <th>field1</th>\n",
       "      <th>RevolvingUtilizationOfUnsecuredLines</th>\n",
       "      <th>age</th>\n",
       "      <th>NumberOfTime30-59DaysPastDueNotWorse</th>\n",
       "      <th>DebtRatio</th>\n",
       "      <th>MonthlyIncome</th>\n",
       "      <th>NumberOfOpenCreditLinesAndLoans</th>\n",
       "      <th>NumberOfTimes90DaysLate</th>\n",
       "      <th>NumberRealEstateLoansOrLines</th>\n",
       "      <th>NumberOfTime60-89DaysPastDueNotWorse</th>\n",
       "      <th>NumberOfDependents</th>\n",
       "      <th>NumberOfTimes90DaysLate_TOTAL</th>\n",
       "      <th>IsOld</th>\n",
       "      <th>SeriousDlqin2yrs</th>\n",
       "      <th>SeriousDlqin2yrs.1</th>\n",
       "      <th>0 probability</th>\n",
       "      <th>probability1</th>\n",
       "    </tr>\n",
       "  </thead>\n",
       "  <tbody>\n",
       "    <tr>\n",
       "      <th>0</th>\n",
       "      <td>5</td>\n",
       "      <td>0.907239</td>\n",
       "      <td>49</td>\n",
       "      <td>1</td>\n",
       "      <td>0.024926</td>\n",
       "      <td>63588.0</td>\n",
       "      <td>7</td>\n",
       "      <td>0</td>\n",
       "      <td>1</td>\n",
       "      <td>0</td>\n",
       "      <td>0.0</td>\n",
       "      <td>1</td>\n",
       "      <td>False</td>\n",
       "      <td>0</td>\n",
       "      <td>0</td>\n",
       "      <td>0.82094</td>\n",
       "      <td>0.17906</td>\n",
       "    </tr>\n",
       "    <tr>\n",
       "      <th>1</th>\n",
       "      <td>20</td>\n",
       "      <td>0.602794</td>\n",
       "      <td>25</td>\n",
       "      <td>0</td>\n",
       "      <td>0.065868</td>\n",
       "      <td>333.0</td>\n",
       "      <td>2</td>\n",
       "      <td>0</td>\n",
       "      <td>0</td>\n",
       "      <td>0</td>\n",
       "      <td>0.0</td>\n",
       "      <td>0</td>\n",
       "      <td>False</td>\n",
       "      <td>0</td>\n",
       "      <td>0</td>\n",
       "      <td>0.95714</td>\n",
       "      <td>0.04286</td>\n",
       "    </tr>\n",
       "    <tr>\n",
       "      <th>2</th>\n",
       "      <td>27</td>\n",
       "      <td>0.052436</td>\n",
       "      <td>58</td>\n",
       "      <td>0</td>\n",
       "      <td>0.097672</td>\n",
       "      <td>8333.0</td>\n",
       "      <td>22</td>\n",
       "      <td>0</td>\n",
       "      <td>1</td>\n",
       "      <td>0</td>\n",
       "      <td>0.0</td>\n",
       "      <td>0</td>\n",
       "      <td>False</td>\n",
       "      <td>0</td>\n",
       "      <td>0</td>\n",
       "      <td>0.98582</td>\n",
       "      <td>0.01418</td>\n",
       "    </tr>\n",
       "    <tr>\n",
       "      <th>3</th>\n",
       "      <td>28</td>\n",
       "      <td>0.034421</td>\n",
       "      <td>69</td>\n",
       "      <td>0</td>\n",
       "      <td>0.042383</td>\n",
       "      <td>2500.0</td>\n",
       "      <td>17</td>\n",
       "      <td>0</td>\n",
       "      <td>0</td>\n",
       "      <td>0</td>\n",
       "      <td>1.0</td>\n",
       "      <td>0</td>\n",
       "      <td>False</td>\n",
       "      <td>0</td>\n",
       "      <td>0</td>\n",
       "      <td>0.98958</td>\n",
       "      <td>0.01042</td>\n",
       "    </tr>\n",
       "    <tr>\n",
       "      <th>4</th>\n",
       "      <td>31</td>\n",
       "      <td>0.704074</td>\n",
       "      <td>28</td>\n",
       "      <td>1</td>\n",
       "      <td>0.155201</td>\n",
       "      <td>4200.0</td>\n",
       "      <td>8</td>\n",
       "      <td>0</td>\n",
       "      <td>0</td>\n",
       "      <td>0</td>\n",
       "      <td>0.0</td>\n",
       "      <td>1</td>\n",
       "      <td>False</td>\n",
       "      <td>0</td>\n",
       "      <td>0</td>\n",
       "      <td>0.86787</td>\n",
       "      <td>0.13213</td>\n",
       "    </tr>\n",
       "  </tbody>\n",
       "</table>\n",
       "</div>"
      ],
      "text/plain": [
       "   field1  RevolvingUtilizationOfUnsecuredLines  age  \\\n",
       "0       5                              0.907239   49   \n",
       "1      20                              0.602794   25   \n",
       "2      27                              0.052436   58   \n",
       "3      28                              0.034421   69   \n",
       "4      31                              0.704074   28   \n",
       "\n",
       "   NumberOfTime30-59DaysPastDueNotWorse  DebtRatio  MonthlyIncome  \\\n",
       "0                                     1   0.024926        63588.0   \n",
       "1                                     0   0.065868          333.0   \n",
       "2                                     0   0.097672         8333.0   \n",
       "3                                     0   0.042383         2500.0   \n",
       "4                                     1   0.155201         4200.0   \n",
       "\n",
       "   NumberOfOpenCreditLinesAndLoans  NumberOfTimes90DaysLate  \\\n",
       "0                                7                        0   \n",
       "1                                2                        0   \n",
       "2                               22                        0   \n",
       "3                               17                        0   \n",
       "4                                8                        0   \n",
       "\n",
       "   NumberRealEstateLoansOrLines  NumberOfTime60-89DaysPastDueNotWorse  \\\n",
       "0                             1                                     0   \n",
       "1                             0                                     0   \n",
       "2                             1                                     0   \n",
       "3                             0                                     0   \n",
       "4                             0                                     0   \n",
       "\n",
       "   NumberOfDependents  NumberOfTimes90DaysLate_TOTAL  IsOld  SeriousDlqin2yrs  \\\n",
       "0                 0.0                              1  False                 0   \n",
       "1                 0.0                              0  False                 0   \n",
       "2                 0.0                              0  False                 0   \n",
       "3                 1.0                              0  False                 0   \n",
       "4                 0.0                              1  False                 0   \n",
       "\n",
       "   SeriousDlqin2yrs.1  0 probability  probability1  \n",
       "0                   0        0.82094       0.17906  \n",
       "1                   0        0.95714       0.04286  \n",
       "2                   0        0.98582       0.01418  \n",
       "3                   0        0.98958       0.01042  \n",
       "4                   0        0.86787       0.13213  "
      ]
     },
     "execution_count": 72,
     "metadata": {},
     "output_type": "execute_result"
    }
   ],
   "source": [
    "#Upload csv, rename 31 probability for better using\n",
    "df_val = read_csv('my_predictions_val.csv')\n",
    "lcol = list(df_val.columns)\n",
    "col_tochg = lcol[len(lcol)-1]\n",
    "print(col_tochg)\n",
    "lcol[len(lcol)-1] = 'probability1' \n",
    "df_val.columns = lcol\n",
    "\n",
    "df_val.info()\n",
    "df_val.head (5)\n",
    "\n"
   ]
  },
  {
   "cell_type": "code",
   "execution_count": 43,
   "metadata": {},
   "outputs": [],
   "source": [
    "#COST Matrix\n",
    "pl0_0 = 500    #TN\n",
    "pl1_0 = -2500  #FN\n",
    "pl0_1 = -500   #FP\n",
    "pl1_1 = 0      #TP\n",
    "\n",
    "#Precison\n",
    "p = 1000"
   ]
  },
  {
   "cell_type": "code",
   "execution_count": 4,
   "metadata": {},
   "outputs": [],
   "source": [
    "def CalculError_seuil2 (row):\n",
    "    v = row['SeriousDlqin2yrs']\n",
    "    w = row['1 probability']\n",
    "    s1 = row['seuil']\n",
    "    if v == 0 :\n",
    "        if w <= s1 :\n",
    "            return 'TN'\n",
    "        else :\n",
    "            return 'FP'\n",
    "    else :\n",
    "        if w < s1 :\n",
    "            return 'FN'\n",
    "        else :\n",
    "            return 'TP'"
   ]
  },
  {
   "cell_type": "code",
   "execution_count": 5,
   "metadata": {},
   "outputs": [],
   "source": [
    "def CalculError_seuil3 (SeriousDlqin2yrs,probability1,seuil):\n",
    "    if probability1 >= seuil:\n",
    "        if SeriousDlqin2yrs == 1 :\n",
    "            return 'TN' #(1,1,>seuil)\n",
    "        else :\n",
    "            return 'FN'\n",
    "    else:\n",
    "        if SeriousDlqin2yrs == 0: \n",
    "            return 'TP' #(0,0 < seuil)\n",
    "        else :\n",
    "            return 'FP' \n",
    "        "
   ]
  },
  {
   "cell_type": "code",
   "execution_count": 6,
   "metadata": {},
   "outputs": [],
   "source": [
    "def CalculError_seuil4 (SeriousDlqin2yrs,df_seuil):\n",
    "    if df_seuil:\n",
    "        if SeriousDlqin2yrs == 1 :\n",
    "            return 'TN' #(1,1,>seuil)\n",
    "        else :\n",
    "            return 'FN'\n",
    "    else:\n",
    "        if SeriousDlqin2yrs == 0: \n",
    "            return 'TP' #(0,0 < seuil)\n",
    "        else :\n",
    "            return 'FP' "
   ]
  },
  {
   "cell_type": "code",
   "execution_count": 9,
   "metadata": {},
   "outputs": [],
   "source": [
    "def calcul_gain (s,pl0_0,pl0_1,pl1_0,pl1_1,option): \n",
    "    \n",
    "    tp=0\n",
    "    fp=0\n",
    "    fn=0\n",
    "    tn=0\n",
    "\n",
    "    df_val ['seuil'] =  (df_val['probability1'] >= s)\n",
    "    \n",
    "    df_val['error']= df_val.apply (lambda x: CalculError_seuil4(x['SeriousDlqin2yrs'],x['seuil']), axis = 1)\n",
    "\n",
    "    resultat0 = df_val.groupby('error')['field1'].nunique()\n",
    "   \n",
    "    for res in resultat0.index :\n",
    "        if res == 'TP':\n",
    "            tp = resultat0.loc['TP']\n",
    "        \n",
    "        if res == 'FP':\n",
    "            fp = resultat0.loc['FP']\n",
    "        \n",
    "        if res == 'FN':\n",
    "            fn = resultat0.loc['FN']\n",
    "        \n",
    "        if res == 'TN':\n",
    "            tn = resultat0.loc['TN']\n",
    "\n",
    "    \n",
    "    \n",
    "    df_matrixConfusion = pd.DataFrame({'Prediction 0' : [tp,fp], 'Prediction 1':[fn,tn]},index = ['Actual 0', 'Actual 1'] )\n",
    "    df_matrixCost = pd.DataFrame({'Prediction 0' : [pl0_0,pl1_0], 'Prediction 1':[pl0_1, pl1_1]},index = ['Actual 0', 'Actual 1'] )\n",
    "    total_gain = df_matrixCost * df_matrixConfusion\n",
    "    total_gain2 = total_gain.sum (axis = 1)\n",
    "    total_gain3 = total_gain2.sum (axis = 0)\n",
    "    \n",
    "    if tp == 0 and fp == 0:\n",
    "        tpr = 0\n",
    "    else:\n",
    "        tpr = tp/(tp+fn) #senstivity\n",
    "    \n",
    "    if tn == 0 and fn ==0:\n",
    "        tnr = 0\n",
    "    else:\n",
    "        tnr = tn/(tn+fp)  #specificity\n",
    "    fpr = 1- tnr\n",
    "    \n",
    "    #roc = pd.DataFrame ({'TPR': [tpr], 'FNR': [tnr]})\n",
    "    roc = [tpr, fpr, tnr, tp, fp, fn, tn]\n",
    "    \n",
    "    switcher={\n",
    "                1: resultat0,\n",
    "                2: df_matrixConfusion,\n",
    "                3: df_matrixCost,\n",
    "                4: total_gain3,\n",
    "                5: roc\n",
    "    }\n",
    "    return switcher.get(option,\"Invalid option\")\n",
    "    "
   ]
  },
  {
   "cell_type": "code",
   "execution_count": 10,
   "metadata": {},
   "outputs": [
    {
     "name": "stdout",
     "output_type": "stream",
     "text": [
      "\n",
      "**** Pour un seuil :  0.5\n",
      "error\n",
      "FN      236\n",
      "FP     1686\n",
      "TN      329\n",
      "TP    27749\n",
      "Name: field1, dtype: int64\n",
      "\n",
      "** Matrice de confusion\n",
      "          Prediction 0  Prediction 1\n",
      "Actual 0         27749           236\n",
      "Actual 1          1686           329\n",
      "\n",
      "** Matrice de cout\n",
      "          Prediction 0  Prediction 1\n",
      "Actual 0           500          -500\n",
      "Actual 1         -2500             0\n",
      "\n",
      " => Le P&L est de 9541500 à ce seuil\n"
     ]
    }
   ],
   "source": [
    "#df_val.info()\n",
    "\n",
    "seuil = 0.5\n",
    "res = calcul_gain (seuil,pl0_0,pl0_1,pl1_0,pl1_1,1)\n",
    "\n",
    "mtxcf = calcul_gain (seuil,pl0_0,pl0_1,pl1_0,pl1_1,2)\n",
    "mtxct = calcul_gain (seuil,pl0_0,pl0_1,pl1_0,pl1_1,3)\n",
    "pl05 = calcul_gain (seuil,pl0_0,pl0_1,pl1_0,pl1_1,4)\n",
    "\n",
    "print()\n",
    "print ('**** Pour un seuil : ',seuil )\n",
    "print (res)\n",
    "print()\n",
    "print ('** Matrice de confusion')\n",
    "print (mtxcf)\n",
    "print()\n",
    "print ('** Matrice de cout')\n",
    "print (mtxct)\n",
    "print()\n",
    "print (f' => Le P&L est de {pl05} à ce seuil')\n"
   ]
  },
  {
   "cell_type": "code",
   "execution_count": 221,
   "metadata": {},
   "outputs": [
    {
     "name": "stdout",
     "output_type": "stream",
     "text": [
      "**** Gain Maximum ****\n",
      "=> Le P&L maximum est de 9989500 au seuil de 0.29\n"
     ]
    },
    {
     "data": {
      "text/plain": [
       "<matplotlib.axes._subplots.AxesSubplot at 0x7fccb591e400>"
      ]
     },
     "execution_count": 221,
     "metadata": {},
     "output_type": "execute_result"
    },
    {
     "data": {
      "image/png": "[encoded data removed]",
      "text/plain": [
       "<Figure size 432x288 with 1 Axes>"
      ]
     },
     "metadata": {
      "needs_background": "light"
     },
     "output_type": "display_data"
    }
   ],
   "source": [
    "print ('**** Gain Maximum ****')\n",
    "\n",
    "dfx = pd.concat([pd.DataFrame({ 'seuil': [i/p],\n",
    "                                'gain' : [calcul_gain(i/p,pl0_0,pl0_1,pl1_0,pl1_1,4)]}) \n",
    "                                 for i in range (1,int(10*p/10))], ignore_index=True)\n",
    "\n",
    "dfx_max = dfx[dfx['gain'] == dfx['gain'].max()]\n",
    "idx_max = dfx_max.index[0]\n",
    "seuil_max = dfx_max.at[idx_max,'seuil']\n",
    "gain_max = dfx_max.at[idx_max,'gain']\n",
    "print (f'=> Le P&L maximum est de {gain_max} au seuil de {seuil_max}')\n",
    "dfx.plot(x='seuil' , y='gain')"
   ]
  },
  {
   "cell_type": "markdown",
   "metadata": {},
   "source": [
    "# AUC calculation with different methods"
   ]
  },
  {
   "cell_type": "code",
   "execution_count": 94,
   "metadata": {},
   "outputs": [
    {
     "name": "stdout",
     "output_type": "stream",
     "text": [
      "AUC methode 1\n",
      "2015\n",
      "27985\n",
      "48188599\n",
      "AUC=  0.8545627110588755\n"
     ]
    }
   ],
   "source": [
    "print (\"AUC methode 1\")\n",
    "ln1=df_val['SeriousDlqin2yrs'].sum(axis =0)\n",
    "df1 = df_val['probability1'] * df_val['SeriousDlqin2yrs']\n",
    "print(ln1)\n",
    "\n",
    "#\n",
    "#df0 = ~df_threshold['SeriousDlqin2yrs']\n",
    "df0 = df_val['SeriousDlqin2yrs'] + 1\n",
    "df0 = df0.apply(lambda x: 0 if x == 2 else 1)\n",
    "ln0 = df0.sum(axis =0)\n",
    "print(ln0)\n",
    "df0 = df_val['probability1'] * df0\n",
    "\n",
    "\n",
    "nb1=0\n",
    "for r1 in df1:\n",
    "    if r1 > 0:\n",
    "        for r0 in df0:\n",
    "            if r1 > r0 and r0 !=0:\n",
    "                nb1 = nb1 + 1\n",
    "print(nb1)\n",
    "print(\"AUC= \", nb1/(ln1*ln0))"
   ]
  },
  {
   "cell_type": "code",
   "execution_count": 44,
   "metadata": {},
   "outputs": [
    {
     "name": "stdout",
     "output_type": "stream",
     "text": [
      "**** ROC Curve  ****\n"
     ]
    },
    {
     "data": {
      "text/plain": [
       "<matplotlib.axes._subplots.AxesSubplot at 0x7fe7301e2c50>"
      ]
     },
     "execution_count": 44,
     "metadata": {},
     "output_type": "execute_result"
    },
    {
     "data": {
      "image/png": "[encoded data removed]",
      "text/plain": [
       "<Figure size 432x288 with 1 Axes>"
      ]
     },
     "metadata": {
      "needs_background": "light"
     },
     "output_type": "display_data"
    }
   ],
   "source": [
    "print ('**** ROC Curve  ****')\n",
    "df_roc = pd.DataFrame({'seuil': [0], 'TPR' : [0], 'FPR': [0]})\n",
    "\n",
    "#Append methode\n",
    "for i in range (1,int(10*p/10)):\n",
    "    roc = calcul_gain(i/p,pl0_0,pl0_1,pl1_0,pl1_1,5)\n",
    "    df_roc = df_roc.append(pd.DataFrame({'seuil': [i/p], \n",
    "                                'TPR' : [roc[0]], \n",
    "                                'FPR': [roc[1]]}), \n",
    "                                 ignore_index=True)\n",
    "df_roc.plot(x='FPR' , y='TPR')\n",
    "\n",
    "#Concat methode\n",
    "#df_roc = pd.concat([pd.DataFrame({'seuil': [i/p]\n",
    "#                                  'TPR' : [calcul_gain(i/p,pl0_0,pl0_1,pl1_0,pl1_1,5)[0]],\n",
    "#                                  'FPR' : [calcul_gain(i/p,pl0_0,pl0_1,pl1_0,pl1_1,5)[1]]}) \n",
    "#                                   for i in range (1,int(10*p/10))], ignore_index=True)\n",
    "#df_roc.plot(x='FPR' , y='TPR')\n",
    "\n",
    "#Retreive several metrics\n",
    "#df_roc = pd.concat([pd.DataFrame({'seuil': [i/p],\n",
    "#                                  'TPR' : [calcul_gain(i/p,pl0_0,pl0_1,pl1_0,pl1_1,5)[0]],\n",
    "#                                  'FNR' : [calcul_gain(i/p,pl0_0,pl0_1,pl1_0,pl1_1,5)[1]],\n",
    "#                                  'TNR' : [calcul_gain(i/p,pl0_0,pl0_1,pl1_0,pl1_1,5)[2]],\n",
    "#                                  'TP'  : [calcul_gain(i/p,pl0_0,pl0_1,pl1_0,pl1_1,5)[3]],\n",
    "#                                  'FP'  : [calcul_gain(i/p,pl0_0,pl0_1,pl1_0,pl1_1,5)[4]],\n",
    "#                                  'FN'  : [calcul_gain(i/p,pl0_0,pl0_1,pl1_0,pl1_1,5)[5]],\n",
    "#                                  'TN'  : [calcul_gain(i/p,pl0_0,pl0_1,pl1_0,pl1_1,5)[6]]}) \n",
    "#                                   for i in range (1,int(10*p/10))], ignore_index=True)\n",
    "#df_roc.plot(x='FPR' , y='TPR')\n"
   ]
  },
  {
   "cell_type": "code",
   "execution_count": 214,
   "metadata": {},
   "outputs": [],
   "source": [
    "#Create .csv\n",
    "df_roc.to_csv('roc.csv')"
   ]
  },
  {
   "cell_type": "code",
   "execution_count": 32,
   "metadata": {},
   "outputs": [],
   "source": [
    "def new_col(df,col,n_col):\n",
    "    d = df[col] \n",
    "    d = pd.DataFrame (d)\n",
    "    my_cols = list(d.columns)\n",
    "    my_cols[0] = n_col \n",
    "    d.columns = my_cols\n",
    "    d1 = d\n",
    "    d2 = d1.drop([0], axis = 0)\n",
    "    d3 = d2.reset_index()\n",
    "    d4 = d3.drop(['index'], axis = 1)\n",
    "    d5 = pd.concat ([df,d4], axis =1, ignore_index = False)\n",
    "    n_df = d5.fillna(1)\n",
    "    return n_df\n",
    "    "
   ]
  },
  {
   "cell_type": "code",
   "execution_count": 45,
   "metadata": {},
   "outputs": [
    {
     "name": "stdout",
     "output_type": "stream",
     "text": [
      "AUC calculation from ROC curve\n",
      "   seuil       TPR       FPR\n",
      "0  0.000  0.000000  0.000000\n",
      "1  0.001  0.000071  0.000000\n",
      "2  0.002  0.004788  0.000000\n",
      "3  0.003  0.023441  0.000496\n",
      "4  0.004  0.054708  0.002481\n",
      "   seuil       TPR       FPR      TPR1      FPR1\n",
      "0  0.000  0.000000  0.000000  0.000071  0.000000\n",
      "1  0.001  0.000071  0.000000  0.004788  0.000000\n",
      "2  0.002  0.004788  0.000000  0.023441  0.000496\n",
      "3  0.003  0.023441  0.000496  0.054708  0.002481\n",
      "4  0.004  0.054708  0.002481  0.095087  0.007940\n",
      "   seuil       TPR       FPR      TPR1      FPR1       AUC\n",
      "0  0.000  0.000000  0.000000  0.000071  0.000000  0.000000\n",
      "1  0.001  0.000071  0.000000  0.004788  0.000000  0.000000\n",
      "2  0.002  0.004788  0.000000  0.023441  0.000496  0.000007\n",
      "3  0.003  0.023441  0.000496  0.054708  0.002481  0.000078\n",
      "4  0.004  0.054708  0.002481  0.095087  0.007940  0.000409\n",
      "AUC =  0.8546922824217689\n"
     ]
    }
   ],
   "source": [
    "print (\"methode 2 : AUC calculation from ROC curve\")\n",
    "print (df_roc.head(5))\n",
    "df_roc1 = new_col(df_roc,'TPR','TPR1')\n",
    "df_roc2 = new_col(df_roc1,'FPR','FPR1')\n",
    "print (df_roc2.head(5))\n",
    "\n",
    "df_roc2 ['AUC'] = ((df_roc2['TPR']+df_roc2['TPR1'])/2) * (df_roc2['FPR1']-df_roc2['FPR'])\n",
    "print (df_roc2.head(5))\n",
    "\n",
    "auc = df_roc2 ['AUC'].sum (axis = 0)\n",
    "print (\"AUC from ROC curve= \", auc)\n"
   ]
  },
  {
   "cell_type": "code",
   "execution_count": 83,
   "metadata": {},
   "outputs": [
    {
     "name": "stdout",
     "output_type": "stream",
     "text": [
      "methode 3 : AUC without loop\n",
      "0.8546044030145536\n"
     ]
    }
   ],
   "source": [
    "print(\"Methode 3 : AUC without loop\") \n",
    "is_positive = (df_val['SeriousDlqin2yrs'] == 1)\n",
    "\n",
    "df_threshold=pd.DataFrame(index=df_val['probability1'])\n",
    "df_threshold['positive'] = is_positive.values\n",
    "df_threshold.sort_index(inplace=True, ascending=False)\n",
    "\n",
    "df_threshold['positive_sum'] =  df_threshold['positive'].cumsum()\n",
    "auc=df_threshold.loc[~df_threshold['positive']]['positive_sum'].sum()/(2015*27985)\n",
    "print (auc)"
   ]
  },
  {
   "cell_type": "code",
   "execution_count": null,
   "metadata": {},
   "outputs": [],
   "source": []
  }
 ],
 "metadata": {
  "kernelspec": {
   "display_name": "Python 3",
   "language": "python",
   "name": "python3"
  },
  "language_info": {
   "codemirror_mode": {
    "name": "ipython",
    "version": 3
   },
   "file_extension": ".py",
   "mimetype": "text/x-python",
   "name": "python",
   "nbconvert_exporter": "python",
   "pygments_lexer": "ipython3",
   "version": "3.7.3"
  }
 },
 "nbformat": 4,
 "nbformat_minor": 2
}
